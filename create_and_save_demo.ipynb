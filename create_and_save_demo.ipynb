{
  "cells": [
    {
      "cell_type": "markdown",
      "metadata": {
        "id": "view-in-github",
        "colab_type": "text"
      },
      "source": [
        "<a href=\"https://colab.research.google.com/github/fluderm/PyBulletPerAct/blob/main/create_and_save_demo.ipynb\" target=\"_parent\"><img src=\"https://colab.research.google.com/assets/colab-badge.svg\" alt=\"Open In Colab\"/></a>"
      ]
    },
    {
      "cell_type": "markdown",
      "metadata": {
        "id": "WNovH9jQPdTJ"
      },
      "source": [
        "# **Save demo from Panda (compatible with RLBench and PyBulletPerAct):** \n"
      ]
    },
    {
      "cell_type": "markdown",
      "metadata": {
        "id": "cY8iX-eLYepQ"
      },
      "source": [
        "### Install Dependencies"
      ]
    },
    {
      "cell_type": "code",
      "execution_count": null,
      "metadata": {
        "colab": {
          "base_uri": "https://localhost:8080/"
        },
        "id": "3Kb4kpb-wtLV",
        "outputId": "80ed14e7-44f2-483d-928f-397824ccf921"
      },
      "outputs": [
        {
          "output_type": "stream",
          "name": "stdout",
          "text": [
            "Looking in indexes: https://pypi.org/simple, https://us-python.pkg.dev/colab-wheels/public/simple/\n",
            "Collecting setuptools==65.5.0\n",
            "  Downloading setuptools-65.5.0-py3-none-any.whl (1.2 MB)\n",
            "\u001b[2K     \u001b[90m━━━━━━━━━━━━━━━━━━━━━━━━━━━━━━━━━━━━━━━━\u001b[0m \u001b[32m1.2/1.2 MB\u001b[0m \u001b[31m15.4 MB/s\u001b[0m eta \u001b[36m0:00:00\u001b[0m\n",
            "\u001b[?25hInstalling collected packages: setuptools\n",
            "  Attempting uninstall: setuptools\n",
            "    Found existing installation: setuptools 67.6.0\n",
            "    Uninstalling setuptools-67.6.0:\n",
            "      Successfully uninstalled setuptools-67.6.0\n",
            "\u001b[31mERROR: pip's dependency resolver does not currently take into account all the packages that are installed. This behaviour is the source of the following dependency conflicts.\n",
            "ipython 7.9.0 requires jedi>=0.10, which is not installed.\n",
            "cvxpy 1.3.1 requires setuptools>65.5.1, but you have setuptools 65.5.0 which is incompatible.\u001b[0m\u001b[31m\n",
            "\u001b[0mSuccessfully installed setuptools-65.5.0\n",
            "Looking in indexes: https://pypi.org/simple, https://us-python.pkg.dev/colab-wheels/public/simple/\n",
            "Collecting pyvirtualdisplay\n",
            "  Downloading PyVirtualDisplay-3.0-py3-none-any.whl (15 kB)\n",
            "Installing collected packages: pyvirtualdisplay\n",
            "Successfully installed pyvirtualdisplay-3.0\n",
            "Looking in indexes: https://pypi.org/simple, https://us-python.pkg.dev/colab-wheels/public/simple/\n",
            "Requirement already satisfied: pyvirtualdisplay in /usr/local/lib/python3.9/dist-packages (3.0)\n",
            "Reading package lists... Done\n",
            "Building dependency tree       \n",
            "Reading state information... Done\n",
            "python-opengl is already the newest version (3.1.0+dfsg-2build1).\n",
            "ffmpeg is already the newest version (7:4.2.7-0ubuntu0.1).\n",
            "The following NEW packages will be installed:\n",
            "  xvfb\n",
            "0 upgraded, 1 newly installed, 0 to remove and 23 not upgraded.\n",
            "Need to get 780 kB of archives.\n",
            "After this operation, 2,271 kB of additional disk space will be used.\n",
            "Get:1 http://archive.ubuntu.com/ubuntu focal-updates/universe amd64 xvfb amd64 2:1.20.13-1ubuntu1~20.04.6 [780 kB]\n",
            "Fetched 780 kB in 0s (2,379 kB/s)\n",
            "Selecting previously unselected package xvfb.\n",
            "(Reading database ... 130702 files and directories currently installed.)\n",
            "Preparing to unpack .../xvfb_2%3a1.20.13-1ubuntu1~20.04.6_amd64.deb ...\n",
            "Unpacking xvfb (2:1.20.13-1ubuntu1~20.04.6) ...\n",
            "Setting up xvfb (2:1.20.13-1ubuntu1~20.04.6) ...\n",
            "Processing triggers for man-db (2.9.1-1) ...\n"
          ]
        }
      ],
      "source": [
        "%pip install setuptools==65.5.0 # Need to add this for panda-gym==2.0.0 to work\n",
        "!apt install -y python-opengl ffmpeg > /dev/null 2>&1\n",
        "%pip install pyvirtualdisplay\n",
        "\n",
        "#stable_baselines3 sb3_contrib panda-gym==2.0.0 \n",
        "!pip install pyvirtualdisplay \n",
        "!apt install xvfb python-opengl ffmpeg"
      ]
    },
    {
      "cell_type": "markdown",
      "metadata": {
        "id": "lGIz2RohYkJ9"
      },
      "source": [
        "### Clone Repo and Setup\n",
        "\n",
        "This repo contains barebones code from [`panda_gym`](https://github.com/qgallouedec/panda-gym).\n"
      ]
    },
    {
      "cell_type": "code",
      "source": [
        "!git clone https://github.com/fluderm/PyBulletPerAct.git\n",
        "%pip install -e PyBulletPerAct\n",
        "\n",
        "# copy glass files to current directory:\n",
        "\n",
        "!cp PyBulletPerAct/panda_gym/plastic_coffee_cup.mtl \\\n",
        " PyBulletPerAct/panda_gym/plastic_coffee_cup_vhacd.obj \\\n",
        " PyBulletPerAct/panda_gym/plastic_coffee_cup.obj ."
      ],
      "metadata": {
        "colab": {
          "base_uri": "https://localhost:8080/"
        },
        "id": "pQaA-qorn0Ky",
        "outputId": "0645cac0-bce9-46cb-e573-69978d12befd"
      },
      "execution_count": null,
      "outputs": [
        {
          "output_type": "stream",
          "name": "stdout",
          "text": [
            "Cloning into 'PyBulletPerAct'...\n",
            "remote: Enumerating objects: 93, done.\u001b[K\n",
            "remote: Counting objects: 100% (26/26), done.\u001b[K\n",
            "remote: Compressing objects: 100% (26/26), done.\u001b[K\n",
            "remote: Total 93 (delta 11), reused 0 (delta 0), pack-reused 67\u001b[K\n",
            "Unpacking objects: 100% (93/93), 120.20 KiB | 1.72 MiB/s, done.\n",
            "Looking in indexes: https://pypi.org/simple, https://us-python.pkg.dev/colab-wheels/public/simple/\n",
            "Obtaining file:///content/PyBulletPerAct\n",
            "  Preparing metadata (setup.py) ... \u001b[?25l\u001b[?25hdone\n",
            "Requirement already satisfied: setuptools==65.5.0 in /usr/local/lib/python3.9/dist-packages (from panda-gym==2.0.0) (65.5.0)\n",
            "Collecting gym==0.21.0\n",
            "  Downloading gym-0.21.0.tar.gz (1.5 MB)\n",
            "\u001b[2K     \u001b[90m━━━━━━━━━━━━━━━━━━━━━━━━━━━━━━━━━━━━━━━━\u001b[0m \u001b[32m1.5/1.5 MB\u001b[0m \u001b[31m20.6 MB/s\u001b[0m eta \u001b[36m0:00:00\u001b[0m\n",
            "\u001b[?25h  Preparing metadata (setup.py) ... \u001b[?25l\u001b[?25hdone\n",
            "Collecting pybullet\n",
            "  Downloading pybullet-3.2.5-cp39-cp39-manylinux_2_5_x86_64.manylinux1_x86_64.whl (91.7 MB)\n",
            "\u001b[2K     \u001b[90m━━━━━━━━━━━━━━━━━━━━━━━━━━━━━━━━━━━━━━━━\u001b[0m \u001b[32m91.7/91.7 MB\u001b[0m \u001b[31m10.3 MB/s\u001b[0m eta \u001b[36m0:00:00\u001b[0m\n",
            "\u001b[?25hRequirement already satisfied: numpy in /usr/local/lib/python3.9/dist-packages (from panda-gym==2.0.0) (1.22.4)\n",
            "Requirement already satisfied: scipy in /usr/local/lib/python3.9/dist-packages (from panda-gym==2.0.0) (1.10.1)\n",
            "Requirement already satisfied: cloudpickle>=1.2.0 in /usr/local/lib/python3.9/dist-packages (from gym==0.21.0->panda-gym==2.0.0) (2.2.1)\n",
            "Building wheels for collected packages: gym\n",
            "  \u001b[1;31merror\u001b[0m: \u001b[1msubprocess-exited-with-error\u001b[0m\n",
            "  \n",
            "  \u001b[31m×\u001b[0m \u001b[32mpython setup.py bdist_wheel\u001b[0m did not run successfully.\n",
            "  \u001b[31m│\u001b[0m exit code: \u001b[1;36m1\u001b[0m\n",
            "  \u001b[31m╰─>\u001b[0m See above for output.\n",
            "  \n",
            "  \u001b[1;35mnote\u001b[0m: This error originates from a subprocess, and is likely not a problem with pip.\n",
            "  Building wheel for gym (setup.py) ... \u001b[?25lerror\n",
            "\u001b[31m  ERROR: Failed building wheel for gym\u001b[0m\u001b[31m\n",
            "\u001b[0m\u001b[?25h  Running setup.py clean for gym\n",
            "Failed to build gym\n",
            "Installing collected packages: pybullet, gym, panda-gym\n",
            "  Attempting uninstall: gym\n",
            "    Found existing installation: gym 0.25.2\n",
            "    Uninstalling gym-0.25.2:\n",
            "      Successfully uninstalled gym-0.25.2\n",
            "  Running setup.py install for gym ... \u001b[?25l\u001b[?25hdone\n",
            "\u001b[33m  DEPRECATION: gym was installed using the legacy 'setup.py install' method, because a wheel could not be built for it. A possible replacement is to fix the wheel build issue reported above. Discussion can be found at https://github.com/pypa/pip/issues/8368\u001b[0m\u001b[33m\n",
            "\u001b[0m  Running setup.py develop for panda-gym\n",
            "Successfully installed gym-0.21.0 panda-gym-2.0.0 pybullet-3.2.5\n"
          ]
        }
      ]
    },
    {
      "cell_type": "markdown",
      "metadata": {
        "id": "12mooJuWggGm"
      },
      "source": [
        "# Panda Gym"
      ]
    },
    {
      "cell_type": "code",
      "source": [
        "import sys\n",
        "\n",
        "sys.path.append('PyBulletPerAct')"
      ],
      "metadata": {
        "id": "Rsd5DjSYhTPH"
      },
      "execution_count": null,
      "outputs": []
    },
    {
      "cell_type": "code",
      "execution_count": null,
      "metadata": {
        "id": "o6T-n2Cpmxo6"
      },
      "outputs": [],
      "source": [
        "import gym\n",
        "\n",
        "import panda_gym\n",
        "import pprint\n",
        "import numpy as np\n",
        "import pybullet as p\n",
        "import math\n",
        "\n",
        "from pyvirtualdisplay import Display\n",
        "\n",
        "display = Display(visible=0, size=(1024, 768))\n",
        "display.start()\n",
        "\n",
        "from matplotlib import pyplot as plt, animation\n",
        "%matplotlib inline\n",
        "from IPython import display\n",
        "\n",
        "def create_anim(frames, dpi, fps):\n",
        "    plt.figure(figsize=(frames[0].shape[1] / dpi, frames[0].shape[0] / dpi), dpi=dpi)\n",
        "    patch = plt.imshow(frames[0])\n",
        "    def setup():\n",
        "        plt.axis('off')\n",
        "    def animate(i):\n",
        "        patch.set_data(frames[i])\n",
        "    anim = animation.FuncAnimation(plt.gcf(), animate, init_func=setup, frames=len(frames), interval=fps)\n",
        "    return anim\n",
        "\n",
        "def display_anim(frames, dpi=72, fps=50):\n",
        "    anim = create_anim(frames, dpi, fps)\n",
        "    return anim.to_jshtml()\n",
        "\n",
        "def save_anim(frames, filename, dpi=72, fps=50):\n",
        "    anim = create_anim(frames, dpi, fps)\n",
        "    anim.save(filename)\n",
        "\n",
        "\n",
        "class trigger:\n",
        "    def __init__(self):\n",
        "        self._trigger = True\n",
        "\n",
        "    def __call__(self, e):\n",
        "        return self._trigger\n",
        "\n",
        "    def set(self, t):\n",
        "        self._trigger = t"
      ]
    },
    {
      "cell_type": "markdown",
      "source": [
        "Quick test if everything works:"
      ],
      "metadata": {
        "id": "ckyqCC44hb5W"
      }
    },
    {
      "cell_type": "code",
      "source": [
        "#env.close()\n",
        "env = gym.make('PandaPickAndPlace-v2',control_type='joints')\n",
        "obs = env.reset()\n",
        "env.robot.neutral_joint_values = np.array([0.00, 0.41, 0.00, -1.85, 3.14, 2.52, 0.79, 3.00, 3.00])\n",
        "print(obs)\n",
        "\n",
        "rgb, depth, mask, misc = env.render(mode = 'rgb_array')\n",
        "display.HTML(display_anim([rgb['front']]))"
      ],
      "metadata": {
        "colab": {
          "base_uri": "https://localhost:8080/",
          "height": 512
        },
        "id": "pxaoTQC7hiWf",
        "outputId": "fe3dd428-5e21-4de9-c124-0f8311d16e00"
      },
      "execution_count": null,
      "outputs": [
        {
          "output_type": "stream",
          "name": "stdout",
          "text": [
            "{'observation': array([ 3.84396701e-02, -2.19447219e-12,  1.97400143e-01,  0.00000000e+00,\n",
            "       -0.00000000e+00,  0.00000000e+00,  0.00000000e+00, -1.06685667e-01,\n",
            "       -1.34727120e-01,  0.00000000e+00,  1.57079633e+00, -0.00000000e+00,\n",
            "        0.00000000e+00,  0.00000000e+00,  0.00000000e+00,  0.00000000e+00,\n",
            "        0.00000000e+00,  0.00000000e+00,  0.00000000e+00]), 'achieved_goal': array([ 3.84396701e-02, -2.19447219e-12,  1.97400143e-01]), 'desired_goal': array([-0.10668567, -0.13472712,  0.        ])}\n"
          ]
        },
        {
          "output_type": "stream",
          "name": "stderr",
          "text": [
            "/content/PyBulletPerAct/panda_gym/pybullet.py:926: UserWarning: The use of the render method is not recommended when the environment has not been created with render=True. The rendering will probably be weird. Prefer making the environment with option `render=True`. For example: `env = gym.make('PandaReach-v2', render=True)`.\n",
            "  warnings.warn(\n",
            "/content/PyBulletPerAct/panda_gym/pybullet.py:1003: UserWarning: The use of the render method is not recommended when the environment has not been created with render=True. The rendering will probably be weird. Prefer making the environment with option `render=True`. For example: `env = gym.make('PandaReach-v2', render=True)`.\n",
            "  warnings.warn(\n"
          ]
        },
        {
          "output_type": "execute_result",
          "data": {
            "text/plain": [
              "<IPython.core.display.HTML object>"
            ],
            "text/html": [
              "\n",
              "<link rel=\"stylesheet\"\n",
              "href=\"https://maxcdn.bootstrapcdn.com/font-awesome/4.4.0/css/font-awesome.min.css\">\n",
              "<script language=\"javascript\">\n",
              "  function isInternetExplorer() {\n",
              "    ua = navigator.userAgent;\n",
              "    /* MSIE used to detect old browsers and Trident used to newer ones*/\n",
              "    return ua.indexOf(\"MSIE \") > -1 || ua.indexOf(\"Trident/\") > -1;\n",
              "  }\n",
              "\n",
              "  /* Define the Animation class */\n",
              "  function Animation(frames, img_id, slider_id, interval, loop_select_id){\n",
              "    this.img_id = img_id;\n",
              "    this.slider_id = slider_id;\n",
              "    this.loop_select_id = loop_select_id;\n",
              "    this.interval = interval;\n",
              "    this.current_frame = 0;\n",
              "    this.direction = 0;\n",
              "    this.timer = null;\n",
              "    this.frames = new Array(frames.length);\n",
              "\n",
              "    for (var i=0; i<frames.length; i++)\n",
              "    {\n",
              "     this.frames[i] = new Image();\n",
              "     this.frames[i].src = frames[i];\n",
              "    }\n",
              "    var slider = document.getElementById(this.slider_id);\n",
              "    slider.max = this.frames.length - 1;\n",
              "    if (isInternetExplorer()) {\n",
              "        // switch from oninput to onchange because IE <= 11 does not conform\n",
              "        // with W3C specification. It ignores oninput and onchange behaves\n",
              "        // like oninput. In contrast, Microsoft Edge behaves correctly.\n",
              "        slider.setAttribute('onchange', slider.getAttribute('oninput'));\n",
              "        slider.setAttribute('oninput', null);\n",
              "    }\n",
              "    this.set_frame(this.current_frame);\n",
              "  }\n",
              "\n",
              "  Animation.prototype.get_loop_state = function(){\n",
              "    var button_group = document[this.loop_select_id].state;\n",
              "    for (var i = 0; i < button_group.length; i++) {\n",
              "        var button = button_group[i];\n",
              "        if (button.checked) {\n",
              "            return button.value;\n",
              "        }\n",
              "    }\n",
              "    return undefined;\n",
              "  }\n",
              "\n",
              "  Animation.prototype.set_frame = function(frame){\n",
              "    this.current_frame = frame;\n",
              "    document.getElementById(this.img_id).src =\n",
              "            this.frames[this.current_frame].src;\n",
              "    document.getElementById(this.slider_id).value = this.current_frame;\n",
              "  }\n",
              "\n",
              "  Animation.prototype.next_frame = function()\n",
              "  {\n",
              "    this.set_frame(Math.min(this.frames.length - 1, this.current_frame + 1));\n",
              "  }\n",
              "\n",
              "  Animation.prototype.previous_frame = function()\n",
              "  {\n",
              "    this.set_frame(Math.max(0, this.current_frame - 1));\n",
              "  }\n",
              "\n",
              "  Animation.prototype.first_frame = function()\n",
              "  {\n",
              "    this.set_frame(0);\n",
              "  }\n",
              "\n",
              "  Animation.prototype.last_frame = function()\n",
              "  {\n",
              "    this.set_frame(this.frames.length - 1);\n",
              "  }\n",
              "\n",
              "  Animation.prototype.slower = function()\n",
              "  {\n",
              "    this.interval /= 0.7;\n",
              "    if(this.direction > 0){this.play_animation();}\n",
              "    else if(this.direction < 0){this.reverse_animation();}\n",
              "  }\n",
              "\n",
              "  Animation.prototype.faster = function()\n",
              "  {\n",
              "    this.interval *= 0.7;\n",
              "    if(this.direction > 0){this.play_animation();}\n",
              "    else if(this.direction < 0){this.reverse_animation();}\n",
              "  }\n",
              "\n",
              "  Animation.prototype.anim_step_forward = function()\n",
              "  {\n",
              "    this.current_frame += 1;\n",
              "    if(this.current_frame < this.frames.length){\n",
              "      this.set_frame(this.current_frame);\n",
              "    }else{\n",
              "      var loop_state = this.get_loop_state();\n",
              "      if(loop_state == \"loop\"){\n",
              "        this.first_frame();\n",
              "      }else if(loop_state == \"reflect\"){\n",
              "        this.last_frame();\n",
              "        this.reverse_animation();\n",
              "      }else{\n",
              "        this.pause_animation();\n",
              "        this.last_frame();\n",
              "      }\n",
              "    }\n",
              "  }\n",
              "\n",
              "  Animation.prototype.anim_step_reverse = function()\n",
              "  {\n",
              "    this.current_frame -= 1;\n",
              "    if(this.current_frame >= 0){\n",
              "      this.set_frame(this.current_frame);\n",
              "    }else{\n",
              "      var loop_state = this.get_loop_state();\n",
              "      if(loop_state == \"loop\"){\n",
              "        this.last_frame();\n",
              "      }else if(loop_state == \"reflect\"){\n",
              "        this.first_frame();\n",
              "        this.play_animation();\n",
              "      }else{\n",
              "        this.pause_animation();\n",
              "        this.first_frame();\n",
              "      }\n",
              "    }\n",
              "  }\n",
              "\n",
              "  Animation.prototype.pause_animation = function()\n",
              "  {\n",
              "    this.direction = 0;\n",
              "    if (this.timer){\n",
              "      clearInterval(this.timer);\n",
              "      this.timer = null;\n",
              "    }\n",
              "  }\n",
              "\n",
              "  Animation.prototype.play_animation = function()\n",
              "  {\n",
              "    this.pause_animation();\n",
              "    this.direction = 1;\n",
              "    var t = this;\n",
              "    if (!this.timer) this.timer = setInterval(function() {\n",
              "        t.anim_step_forward();\n",
              "    }, this.interval);\n",
              "  }\n",
              "\n",
              "  Animation.prototype.reverse_animation = function()\n",
              "  {\n",
              "    this.pause_animation();\n",
              "    this.direction = -1;\n",
              "    var t = this;\n",
              "    if (!this.timer) this.timer = setInterval(function() {\n",
              "        t.anim_step_reverse();\n",
              "    }, this.interval);\n",
              "  }\n",
              "</script>\n",
              "\n",
              "<style>\n",
              ".animation {\n",
              "    display: inline-block;\n",
              "    text-align: center;\n",
              "}\n",
              "input[type=range].anim-slider {\n",
              "    width: 374px;\n",
              "    margin-left: auto;\n",
              "    margin-right: auto;\n",
              "}\n",
              ".anim-buttons {\n",
              "    margin: 8px 0px;\n",
              "}\n",
              ".anim-buttons button {\n",
              "    padding: 0;\n",
              "    width: 36px;\n",
              "}\n",
              ".anim-state label {\n",
              "    margin-right: 8px;\n",
              "}\n",
              ".anim-state input {\n",
              "    margin: 0;\n",
              "    vertical-align: middle;\n",
              "}\n",
              "</style>\n",
              "\n",
              "<div class=\"animation\">\n",
              "  <img id=\"_anim_img3b14db3bfee641bfa77dbd694560b1b5\">\n",
              "  <div class=\"anim-controls\">\n",
              "    <input id=\"_anim_slider3b14db3bfee641bfa77dbd694560b1b5\" type=\"range\" class=\"anim-slider\"\n",
              "           name=\"points\" min=\"0\" max=\"1\" step=\"1\" value=\"0\"\n",
              "           oninput=\"anim3b14db3bfee641bfa77dbd694560b1b5.set_frame(parseInt(this.value));\">\n",
              "    <div class=\"anim-buttons\">\n",
              "      <button title=\"Decrease speed\" aria-label=\"Decrease speed\" onclick=\"anim3b14db3bfee641bfa77dbd694560b1b5.slower()\">\n",
              "          <i class=\"fa fa-minus\"></i></button>\n",
              "      <button title=\"First frame\" aria-label=\"First frame\" onclick=\"anim3b14db3bfee641bfa77dbd694560b1b5.first_frame()\">\n",
              "        <i class=\"fa fa-fast-backward\"></i></button>\n",
              "      <button title=\"Previous frame\" aria-label=\"Previous frame\" onclick=\"anim3b14db3bfee641bfa77dbd694560b1b5.previous_frame()\">\n",
              "          <i class=\"fa fa-step-backward\"></i></button>\n",
              "      <button title=\"Play backwards\" aria-label=\"Play backwards\" onclick=\"anim3b14db3bfee641bfa77dbd694560b1b5.reverse_animation()\">\n",
              "          <i class=\"fa fa-play fa-flip-horizontal\"></i></button>\n",
              "      <button title=\"Pause\" aria-label=\"Pause\" onclick=\"anim3b14db3bfee641bfa77dbd694560b1b5.pause_animation()\">\n",
              "          <i class=\"fa fa-pause\"></i></button>\n",
              "      <button title=\"Play\" aria-label=\"Play\" onclick=\"anim3b14db3bfee641bfa77dbd694560b1b5.play_animation()\">\n",
              "          <i class=\"fa fa-play\"></i></button>\n",
              "      <button title=\"Next frame\" aria-label=\"Next frame\" onclick=\"anim3b14db3bfee641bfa77dbd694560b1b5.next_frame()\">\n",
              "          <i class=\"fa fa-step-forward\"></i></button>\n",
              "      <button title=\"Last frame\" aria-label=\"Last frame\" onclick=\"anim3b14db3bfee641bfa77dbd694560b1b5.last_frame()\">\n",
              "          <i class=\"fa fa-fast-forward\"></i></button>\n",
              "      <button title=\"Increase speed\" aria-label=\"Increase speed\" onclick=\"anim3b14db3bfee641bfa77dbd694560b1b5.faster()\">\n",
              "          <i class=\"fa fa-plus\"></i></button>\n",
              "    </div>\n",
              "    <form title=\"Repetition mode\" aria-label=\"Repetition mode\" action=\"#n\" name=\"_anim_loop_select3b14db3bfee641bfa77dbd694560b1b5\"\n",
              "          class=\"anim-state\">\n",
              "      <input type=\"radio\" name=\"state\" value=\"once\" id=\"_anim_radio1_3b14db3bfee641bfa77dbd694560b1b5\"\n",
              "             >\n",
              "      <label for=\"_anim_radio1_3b14db3bfee641bfa77dbd694560b1b5\">Once</label>\n",
              "      <input type=\"radio\" name=\"state\" value=\"loop\" id=\"_anim_radio2_3b14db3bfee641bfa77dbd694560b1b5\"\n",
              "             checked>\n",
              "      <label for=\"_anim_radio2_3b14db3bfee641bfa77dbd694560b1b5\">Loop</label>\n",
              "      <input type=\"radio\" name=\"state\" value=\"reflect\" id=\"_anim_radio3_3b14db3bfee641bfa77dbd694560b1b5\"\n",
              "             >\n",
              "      <label for=\"_anim_radio3_3b14db3bfee641bfa77dbd694560b1b5\">Reflect</label>\n",
              "    </form>\n",
              "  </div>\n",
              "</div>\n",
              "\n",
              "\n",
              "<script language=\"javascript\">\n",
              "  /* Instantiate the Animation class. */\n",
              "  /* The IDs given should match those used in the template above. */\n",
              "  (function() {\n",
              "    var img_id = \"_anim_img3b14db3bfee641bfa77dbd694560b1b5\";\n",
              "    var slider_id = \"_anim_slider3b14db3bfee641bfa77dbd694560b1b5\";\n",
              "    var loop_select_id = \"_anim_loop_select3b14db3bfee641bfa77dbd694560b1b5\";\n",
              "    var frames = new Array(1);\n",
              "    \n",
              "  frames[0] = \"data:image/png;base64,iVBORw0KGgoAAAANSUhEUgAAAIAAAACACAYAAADDPmHLAAAAOXRFWHRTb2Z0d2FyZQBNYXRwbG90\\\n",
              "bGliIHZlcnNpb24zLjcuMSwgaHR0cHM6Ly9tYXRwbG90bGliLm9yZy/bCgiHAAAACXBIWXMAAAsT\\\n",
              "AAALEwEAmpwYAAALiUlEQVR4nO2dW2wc1RnH/3Pf3bHXydqxN87FjuM1aYyJURWELaiatIEK5SGi\\\n",
              "ES19QzzkDSIhJKQ2UsVLgZe8IVWCF54RkRJopIomRaKiMo1iBwgQCMHxJRiv9z479zl9CLOJSWzH\\\n",
              "67nYOecn7cteznyr+Z3vfHPOmV2OEELAoBY+7gAY8cIEoBwmAOUwASiHCUA5TADKYQJQDhOAcpgA\\\n",
              "lMMEoBwmAOUwASiHCUA5TADKYQJQDhOAcpgAlMMEoBwmAOUwASiHCUA5TADKYQJQDhOAcpgAlMME\\\n",
              "oBwmAOUwASiHCUA5TADKYQJQDhOAcpgAlMMEoBwmAOUwASiHCUA5TADKYQJQDhOAcpgAlMMEoBwm\\\n",
              "AOUwASiHCUA5TADKYQJQDhOAcpgAlMMEoBwmAOUwASiHCUA5TAAAjuPA87y4w4gFMe4AoqZW0zA5\\\n",
              "OYX5+Tz27RuE53kolUpIJpNQVRWSJOH99/+JQ4d+jVQqCUVR4g45VKgT4M9/+StMw8L+R36JTKYN\\\n",
              "nufi888vo7NzC7Zs6YBt2/jyyy/xr3PnceDAr/DHP/w+7pBDhToBiOdC1zV8+un/kErK6OhoR19f\\\n",
              "LxKJBDiOQ7FYRKGwAK1Whes6cYcbOtTVAIQAxWIJN2ZnUSgU4DgOHMeBbdtwXReO40DTNGiaBtuy\\\n",
              "4g43dKjLALmBfmhaDa3pVnie1zjpgiCAEALXdeF5LmRZQjbbFXe4ocPR9t/Btm3jww/PQZYlTE9P\\\n",
              "I51uRS6Xg6Io+Prrr7FlyxYsLBQgSTIOHfpN3OGGDnUC3M7p06fhOA4ymQwURYGu6+jr60NPTw84\\\n",
              "jos7vEigrgbw8TwPnufBMAwUi0WUSiVI0s2sMDs7C1r6BXU1wPT0NERRhOM4MAwDhmGA52/2A1EU\\\n",
              "kUgkMDk5CUEQkE6nkUqlYo44XKjLAJcvX8alS5dw6dIlGIbRqPprtRrq9Tpc14Usy3jzzb8jn8/H\\\n",
              "HW7oUJcBKpUKisUiADR6vuu60HUdlmXBdV24rovr1+dQKBSwc+fOOMMNHeoyACGk8XBdd9Frrusi\\\n",
              "n8+jWCyip6cb338/GVOU0RF7BiCEwLIsVCqVSI43MDCAsbGxRUXetm3bUKlUUK1WAdzMEoODezB5\\\n",
              "/QfMz89HEld7e3sjI0VJ7AJ4nod8Ph9Z1Z3JZLB//36Mj4/Dsiyk02nkcjnIstx4z4ULF6DrFhzb\\\n",
              "gWmakcQ1Pz+Prq7oJ55iHwJ0XY/0kovjOHR0dGBoaAiyLKNareLq1avQdR2e50EURXAch2q1Ctux\\\n",
              "I4vLdV0YhhHZ8XxiFYAQ0ki7UdPV1YVEIgFCCMrlMubm5jA3N4dyuYz+/n6kUgnwnIerV69FEo/n\\\n",
              "eZF3BiDmIaBUKt1RiMVBpVJBrVaDIAjYtWsXdu/ejdbWFpRKGjRNjywOTdOgKEqkcw+xCWDbNmw7\\\n",
              "uhR7N3ieR19fH0RRbGSjtrY2SJKE4eFhTE39A7YVTQ3gYxgGEolEZAVhLEMAIQS2bcOKcbmVEIKZ\\\n",
              "mTl89900JElBpaIhlxsAz/Mol8v44Yc5jI1dxJkzZyMdm+v1eqTDQCwZwPO8xmRMXHz00X/w7dXv\\\n",
              "wXMCrk/NwHVsfPHFV3jooT0QRRH5fAHfXPkWPA/YtoNEIrrY8vl8ZFcEsQgQR7Hzc6rVKnp2bkWh\\\n",
              "UIYoAqmUCp4j0DQN9Xod4+OfwTD1WPYEuq4L0zQjOXYsAsRV+d+ObVsACAYGdkEQBIiiCNu2YZom\\\n",
              "TNPE2KcXISsKFEVB1CvDnuc1CsKwiVyAuCt/QggWFhZw48Ys2tszjS1hpmmC47ifii8OaioJjhOw\\\n",
              "ObMplhk6XddRr9dDvyKIVADHcSIr/PxC827PV6tV9PbeuchDCIHneeB5DqOjj2Jw8BcYHX00inDv\\\n",
              "GotpmqFfEUS6I0jTtNCLP783A1hSNtM0USwWMTMzc8d7Ojo6kM1msX379lh6/s/JZrMQxfD6aWTf\\\n",
              "0HEclMvlUI/hj52WZS158gkhkGUZ7e3tEARh0WuCIKCrqws7d+5cFycfABYWFkItmCP5ln46C/v2\\\n",
              "K47jkEqlVtzPV6vVUKvVIMvyot7V0dEBwzDWxeykj79lPSwi0zzs3g/cFMB/LIdpmo2edXtP9/cE\\\n",
              "fvDB2VgnqW4n7PWSQGqAWq227Ov+3rsw8Qu4arW6bMq8ceMGZmdnYdv2Xd+XzWaxeXMG6XQrzp37\\\n",
              "Nx5+eBj9/bvDDH1FOI6DqqrL1gItLS3NtR2EAP39/Uu+1tnZiRMnTmBoaGith1kWx3FQq9WWPPkc\\\n",
              "x0EQBNTrdXzyyX9RqVRw51sJAA4cB7S3Z9Db24u9e/euiy3i7733Ht56660lO9KVK1eaajeQ8nK5\\\n",
              "sX1kZCSSk69p2rI9P5VKQZZlXLx48aeC9NYOpLt9LJPZfE/DSVQ8/fTTOHXqFKampgJtN9R5gK1b\\\n",
              "t+LZZ58N8xBwXReapi0poW0DyWQSnifAMFzYNo+WFhW53M207kvz83oAwLo5+T4vv/wyXnjhBRBC\\\n",
              "AostVAH27t2LbDYb5iFW5PXXgVOnLgC42eNVdR8uXszCP9eFQgGT169Dq9UwMjKy6NJwvQmwe/du\\\n",
              "9PT04Nq1W5tU1hpjaFcBHMfhpZdeCrxdQgh0XW88LMu643r+dlx3Bry9gD/ZZ7DH1uE43zSmfP3H\\\n",
              "xMTnmJubX/Qcz/PrTgBVVXHs2DEAi3c3r4XQMsCxY8eQTCYDa8/fPWxZFhzn3u/b53kTLjiMYwBz\\\n",
              "EAEs/mxrayt+9+RvIYriupn8WY7BwUEcOHAA58+fD6S9UL5xJpPB0NDQsj1zNfgnv16vr+rkA8Ar\\\n",
              "r/Qiuz2FCQzAQRkP7MKi1T1JktDd3Y3Ozs5bPZ4QeJ99hsrEBNyJCWCVxwyTtrY2DA4OBrZSGIoA\\\n",
              "TzzxROCVf71eb+pzksQ3TvgOTOHk33pXXN798fRpfHvkCD45fBhXDh/G1DvvNHXssHjmmWewY8eO\\\n",
              "QNoKZQhYb2OnH88EhmEqncvGJ545gx9PnMCsZcEFcA1A8rXXkOU4SM89F03A90BQw1XgGaC/vx/P\\\n",
              "P/980M1CEISmxXr77b3I5VJ44IEWKMryX9l58kmk9uxBD4AdALoAcI4DJ6I7l+6VN954I5BCNdAM\\\n",
              "wHEcDh48uOgum6DaTafT0HW9qSnlri4FZ8+OrDhuep4Hj+eRFwR0AkgAkADoO3Yg+eKLTcUeFi0t\\\n",
              "LXjsscfw8ccfr6mdQDMAz/M4evRokE0uQpZlqKq66qsLjuNWlJIQAsMwwHEc+o8fx1eJBL4AMM5x\\\n",
              "2Hb8ePNBh4Qsyzhy5Mia2wk0A7z66quh7mMTBKGxbfteSSaT95yRJEmCaZrY/MgjODg2BuJ58AiB\\\n",
              "u05/LHJ4eBhHjx7Fu+++23QbgWWAXC4XyW/rLLWKtxSu697Tero/OeSvKkJVwafT8JJJqE2utIWN\\\n",
              "KIrYt28fNm3a1HQbgQkwMjISyY8prFYwf/7A/xUQz/OWFEgQBKiq2iiuJEmCqqrr7qrmdh5//HF0\\\n",
              "d3c3/flAloOfeuopnDx5EqqqrrWpFanX62u6ZZvjOIiiuO5P7GoolUp48MEHm/psIBlgdHQ0kpMP\\\n",
              "3BrTm51l9HcLL7eCuNFYyxAQSAaYnp5eaxOrxjAM6Pra7tyVJKmR6oO+dI2a7du3N/W52H8hpFkU\\\n",
              "RYEkSYt2Aa3WZb84tG27sWNoIywIBcmGFcA/Yel0uvFcuVxuanmUEIJarRb5vfnrgQ2vu79ty7Ks\\\n",
              "Na+NB7l8vVHY8AL4rHXvfFRF7Hpjww4BQeHfTOIXhLRBnQCKojS2Uvm7gDb6FcBauG8ESCaTcBxn\\\n",
              "xTpAUZTGlC9tFf/duG8EWOlXR/xU70/z0pju78Z9IYDjOCve0OnfGMJYzIbPgSvdGAKg8X+AjDuh\\\n",
              "+i9jGPdBBmCsDSYA5TABKIcJQDlMAMphAlAOE4BymACUwwSgHCYA5TABKIcJQDlMAMphAlAOE4By\\\n",
              "/g8lbNphFPon/gAAAABJRU5ErkJggg==\\\n",
              "\"\n",
              "\n",
              "\n",
              "    /* set a timeout to make sure all the above elements are created before\n",
              "       the object is initialized. */\n",
              "    setTimeout(function() {\n",
              "        anim3b14db3bfee641bfa77dbd694560b1b5 = new Animation(frames, img_id, slider_id, 50.0,\n",
              "                                 loop_select_id);\n",
              "    }, 0);\n",
              "  })()\n",
              "</script>\n"
            ]
          },
          "metadata": {},
          "execution_count": 5
        },
        {
          "output_type": "display_data",
          "data": {
            "text/plain": [
              "<Figure size 128x128 with 1 Axes>"
            ],
            "image/png": "[encoded data removed]"
          },
          "metadata": {
            "needs_background": "light"
          }
        }
      ]
    },
    {
      "cell_type": "code",
      "execution_count": null,
      "metadata": {
        "id": "RB-ans9bgoUm",
        "colab": {
          "base_uri": "https://localhost:8080/"
        },
        "outputId": "8f2029d2-2847-449c-b397-52e572485676"
      },
      "outputs": [
        {
          "output_type": "execute_result",
          "data": {
            "text/plain": [
              "[None, None, None, None, None, None, None, None, None, None, None]"
            ]
          },
          "metadata": {},
          "execution_count": 6
        }
      ],
      "source": [
        "obs = env.reset()\n",
        "\n",
        "# enable joint force sensor:\n",
        "\n",
        "[(env.sim.physics_client.enableJointForceTorqueSensor(0,i)) for i in range(11)]"
      ]
    },
    {
      "cell_type": "markdown",
      "metadata": {
        "id": "t_ewRaaU31Ri"
      },
      "source": [
        "# Save panda dataset"
      ]
    },
    {
      "cell_type": "markdown",
      "metadata": {
        "id": "VgSmROJFulWY"
      },
      "source": [
        "## Some Utils"
      ]
    },
    {
      "cell_type": "code",
      "execution_count": null,
      "metadata": {
        "id": "avjXcUrtfztn"
      },
      "outputs": [],
      "source": [
        "import datetime as dt\n",
        "from time import sleep\n",
        "\n",
        "def no_disconnect():\n",
        "  t = dt.datetime.now()\n",
        "\n",
        "  while True:\n",
        "      delta = dt.datetime.now()-t               \n",
        "      if delta.seconds >= 60:\n",
        "          print(\"1 Min\",dt.datetime.now())\n",
        "          t = dt.datetime.now()\n",
        "      sleep(10)"
      ]
    },
    {
      "cell_type": "code",
      "execution_count": null,
      "metadata": {
        "id": "QS34KOF_R-ap"
      },
      "outputs": [],
      "source": [
        "def _normalize(pc):\n",
        "  return (pc - np.amin(pc)) / (np.amax(pc) - np.amin(pc))"
      ]
    },
    {
      "cell_type": "code",
      "execution_count": null,
      "metadata": {
        "id": "T2YbnoQLIQ8G"
      },
      "outputs": [],
      "source": [
        "from multiprocessing import Process, Manager\n",
        "import sys\n",
        "\n",
        "sys.path.append('peract_colab')\n",
        "\n",
        "import os\n",
        "import pickle\n",
        "from PIL import Image\n",
        "import numpy as np\n",
        "\n",
        "from absl import app\n",
        "from absl import flags"
      ]
    },
    {
      "cell_type": "code",
      "execution_count": null,
      "metadata": {
        "id": "zMQE2zRB33Ez"
      },
      "outputs": [],
      "source": [
        "panda_dataset_dir = 'PyBulletPerAct/data'\n",
        "\n",
        "def check_and_make(dir):\n",
        "    if not os.path.exists(dir):\n",
        "        os.makedirs(dir)\n",
        "\n",
        "check_and_make(panda_dataset_dir)"
      ]
    },
    {
      "cell_type": "code",
      "execution_count": null,
      "metadata": {
        "id": "RqkP22_rKoSL"
      },
      "outputs": [],
      "source": [
        "def ClipFloatValues(float_array, min_value, max_value):\n",
        "  \"\"\"Clips values to the range [min_value, max_value].\n",
        "  First checks if any values are out of range and prints a message.\n",
        "  Then clips all values to the given range.\n",
        "  Args:\n",
        "    float_array: 2D array of floating point values to be clipped.\n",
        "    min_value: Minimum value of clip range.\n",
        "    max_value: Maximum value of clip range.\n",
        "  Returns:\n",
        "    The clipped array.\n",
        "  \"\"\"\n",
        "  if float_array.min() < min_value or float_array.max() > max_value:\n",
        "    float_array = np.clip(float_array, min_value, max_value)\n",
        "  return float_array\n",
        "\n",
        "DEFAULT_RGB_SCALE_FACTOR = 256000.0\n",
        "\n",
        "def float_array_to_rgb_image(float_array,\n",
        "                             scale_factor=DEFAULT_RGB_SCALE_FACTOR,\n",
        "                             drop_blue=False):\n",
        "  \"\"\"Convert a floating point array of values to an RGB image.\n",
        "  Convert floating point values to a fixed point representation where\n",
        "  the RGB bytes represent a 24-bit integer.\n",
        "  R is the high order byte.\n",
        "  B is the low order byte.\n",
        "  The precision of the depth image is 1/256 mm.\n",
        "  Floating point values are scaled so that the integer values cover\n",
        "  the representable range of depths.\n",
        "  This image representation should only use lossless compression.\n",
        "  Args:\n",
        "    float_array: Input array of floating point depth values in meters.\n",
        "    scale_factor: Scale value applied to all float values.\n",
        "    drop_blue: Zero out the blue channel to improve compression, results in 1mm\n",
        "      precision depth values.\n",
        "  Returns:\n",
        "    24-bit RGB PIL Image object representing depth values.\n",
        "  \"\"\"\n",
        "  # Scale the floating point array.\n",
        "  scaled_array = np.floor(float_array * scale_factor + 0.5)\n",
        "\n",
        "  # Convert the array to integer type and clip to representable range.\n",
        "  min_inttype = 0\n",
        "  max_inttype = 2**24 - 1\n",
        "  scaled_array = ClipFloatValues(scaled_array, min_inttype, max_inttype)\n",
        "  int_array = scaled_array.astype(np.uint32)\n",
        "  # Calculate:\n",
        "  #   r = (f / 256) / 256  high byte\n",
        "  #   g = (f / 256) % 256  middle byte\n",
        "  #   b = f % 256          low byte\n",
        "  rg = np.divide(int_array, 256)\n",
        "  r = np.divide(rg, 256)\n",
        "  g = np.mod(rg, 256)\n",
        "  image_shape = int_array.shape\n",
        "  rgb_array = np.zeros((image_shape[0], image_shape[1], 3), dtype=np.uint8)\n",
        "  rgb_array[..., 0] = r\n",
        "  rgb_array[..., 1] = g\n",
        "  if not drop_blue:\n",
        "    # Calculate the blue channel and add it to the array.\n",
        "    b = np.mod(int_array, 256)\n",
        "    rgb_array[..., 2] = b\n",
        "  image_mode = 'RGB'\n",
        "  image = Image.fromarray(rgb_array, mode=image_mode)\n",
        "  return image"
      ]
    },
    {
      "cell_type": "code",
      "execution_count": null,
      "metadata": {
        "id": "L-xUNx-D8JJP"
      },
      "outputs": [],
      "source": [
        "# function that transforms rotation 3x3 matrix to Euler angles:\n",
        "\n",
        "# Within PyBullet can also do p.getMatrixFromQuaternion(com_o)\n",
        "\n",
        "def rotationMatrixToEulerAngles(R) :\n",
        "    sy = math.sqrt(R[0,0] * R[0,0] +  R[1,0] * R[1,0])\n",
        "    singular = sy < 1e-6\n",
        "    if  not singular :\n",
        "        x = math.atan2(R[2,1] , R[2,2])\n",
        "        y = math.atan2(-R[2,0], sy)\n",
        "        z = math.atan2(R[1,0], R[0,0])\n",
        "    else :\n",
        "        x = math.atan2(-R[1,2], R[1,1])\n",
        "        y = math.atan2(-R[2,0], sy)\n",
        "        z = 0\n",
        " \n",
        "    return np.array([x, y, z])\n"
      ]
    },
    {
      "cell_type": "code",
      "execution_count": null,
      "metadata": {
        "id": "tFu7zoy5Eck6"
      },
      "outputs": [],
      "source": [
        "import numpy as np\n",
        "from scipy.spatial.transform import Rotation as Rot\n",
        "\n",
        "def cvK2BulletP(K, w, h, near, far):\n",
        "    \"\"\"\n",
        "    cvKtoPulletP converst the K interinsic matrix as calibrated using Opencv\n",
        "    and ROS to the projection matrix used in openGL and Pybullet.\n",
        "\n",
        "    :param K:  OpenCV 3x3 camera intrinsic matrix\n",
        "    :param w:  Image width\n",
        "    :param h:  Image height\n",
        "    :near:     The nearest objects to be included in the render\n",
        "    :far:      The furthest objects to be included in the render\n",
        "    :return:   4x4 projection matrix as used in openGL and pybullet\n",
        "    \"\"\" \n",
        "    f_x = K[0,0]\n",
        "    f_y = K[1,1]\n",
        "    c_x = K[0,2]\n",
        "    c_y = K[1,2]\n",
        "    A = (near + far)/(near - far)\n",
        "    B = 2 * near * far / (near - far)\n",
        "\n",
        "    projection_matrix = [\n",
        "                        [2/w * f_x,  0,          (w - 2*c_x)/w,  0],\n",
        "                        [0,          2/h * f_y,  (2*c_y - h)/h,  0],\n",
        "                        [0,          0,          A,              B],\n",
        "                        [0,          0,          -1,             0]]\n",
        "    #The transpose is needed for respecting the array structure of the OpenGL\n",
        "    return np.array(projection_matrix).T.reshape(16).tolist()\n",
        "\n",
        "def BulletP2cvK(proj_mat, w, h):\n",
        "    # inverse of above\n",
        "    A,B = proj_mat[2,2],proj_mat[3,2]\n",
        "    n,f = B/(A-1), B/(A+1)\n",
        "    fx,fy = w*proj_mat[0,0]/2,h*proj_mat[1,1]/2\n",
        "    cx,cy = w*(1-proj_mat[2,0])/2, h*(proj_mat[2,1]+1)/2\n",
        "\n",
        "    return np.array([[fx,0,cx],[0,fy,cy],[0,0,1]]), n, f\n",
        "\n",
        "\n",
        "def cvPose2BulletView(Rt):\n",
        "    \"\"\"\n",
        "    cvPose2BulletView gets orientation and position as used \n",
        "    in ROS-TF and opencv and coverts it to the view matrix used \n",
        "    in openGL and pyBullet.\n",
        "    \n",
        "    :param q: ROS orientation expressed as quaternion [qx, qy, qz, qw] \n",
        "    :param t: ROS postion expressed as [tx, ty, tz]\n",
        "    :return:  4x4 view matrix as used in pybullet and openGL\n",
        "    \n",
        "    \"\"\"\n",
        "\n",
        "    #T = np.vstack([np.hstack([R, np.array(t).reshape(3,1)]),\n",
        "                              #np.array([0, 0, 0, 1])])\n",
        "    # Convert opencv convention to python convention\n",
        "    # By a 180 degrees rotation along X\n",
        "    Tc = np.array([[1,   0,    0,  0],\n",
        "                   [0,  -1,    0,  0],\n",
        "                   [0,   0,   -1,  0],\n",
        "                   [0,   0,    0,  1]]).reshape(4,4)\n",
        "    \n",
        "    # pybullet pse is the inverse of the pose from the ROS-TF\n",
        "    T=Tc@np.linalg.inv(Rt)\n",
        "    # The transpose is needed for respecting the array structure of the OpenGL\n",
        "    viewMatrix = T.T.reshape(16)\n",
        "    return viewMatrix\n",
        "\n",
        "def BullettocvPose(X):\n",
        "    # inverse of above\n",
        "    #T = np.vstack([np.hstack([R, np.array(t).reshape(3,1)]),\n",
        "                              #np.array([0, 0, 0, 1])])\n",
        "    # Convert opencv convention to python convention\n",
        "    # By a 180 degrees rotation along X\n",
        "    Tc = np.array([[1,   0,    0,  0],\n",
        "                   [0,  -1,    0,  0],\n",
        "                   [0,   0,   -1,  0],\n",
        "                   [0,   0,    0,  1]]).reshape(4,4)\n",
        "    \n",
        "    # pybullet pse is the inverse of the pose from the ROS-TF\n",
        "    T = np.linalg.inv(X.T)@Tc\n",
        "    # The transpose is needed for respecting the array structure of the OpenGL\n",
        "    #viewMatrix = T.T.reshape(16)\n",
        "    return T\n"
      ]
    },
    {
      "cell_type": "markdown",
      "metadata": {
        "id": "OY2sbo-8u1cL"
      },
      "source": [
        "## Create Demo"
      ]
    },
    {
      "cell_type": "markdown",
      "source": [
        "### Define classes\n",
        "\n",
        "Define classes as per [`YARR`](https://github.com/stepjam/YARR) and [`RLBench`](https://github.com/stepjam/RLBench)"
      ],
      "metadata": {
        "id": "kmwaFWO6jlcP"
      }
    },
    {
      "cell_type": "code",
      "execution_count": null,
      "metadata": {
        "id": "uLWyCRp8u0up"
      },
      "outputs": [],
      "source": [
        "class Demo(object):\n",
        "\n",
        "    def __init__(self, observations, random_seed=None):\n",
        "        self._observations = observations\n",
        "        self.random_seed = random_seed\n",
        "        self.variation_number = 0\n",
        "\n",
        "    def __len__(self):\n",
        "        return len(self._observations)\n",
        "\n",
        "    def __getitem__(self, i):\n",
        "        return self._observations[i]\n",
        "\n",
        "    def restore_state(self):\n",
        "        np.random.set_state(self.random_seed)"
      ]
    },
    {
      "cell_type": "code",
      "source": [
        "class Observation(object):\n",
        "    \"\"\"Storage for both visual and low-dimensional observations.\"\"\"\n",
        "\n",
        "    def __init__(self,\n",
        "                 left_shoulder_rgb: np.ndarray,\n",
        "                 left_shoulder_depth: np.ndarray,\n",
        "                 left_shoulder_mask: np.ndarray,\n",
        "                 left_shoulder_point_cloud: np.ndarray,\n",
        "                 right_shoulder_rgb: np.ndarray,\n",
        "                 right_shoulder_depth: np.ndarray,\n",
        "                 right_shoulder_mask: np.ndarray,\n",
        "                 right_shoulder_point_cloud: np.ndarray,\n",
        "                 overhead_rgb: np.ndarray,\n",
        "                 overhead_depth: np.ndarray,\n",
        "                 overhead_mask: np.ndarray,\n",
        "                 overhead_point_cloud: np.ndarray,\n",
        "                 wrist_rgb: np.ndarray,\n",
        "                 wrist_depth: np.ndarray,\n",
        "                 wrist_mask: np.ndarray,\n",
        "                 wrist_point_cloud: np.ndarray,\n",
        "                 front_rgb: np.ndarray,\n",
        "                 front_depth: np.ndarray,\n",
        "                 front_mask: np.ndarray,\n",
        "                 front_point_cloud: np.ndarray,\n",
        "                 joint_velocities: np.ndarray,\n",
        "                 joint_positions: np.ndarray,\n",
        "                 joint_forces: np.ndarray,\n",
        "                 gripper_open: float,\n",
        "                 gripper_pose: np.ndarray,\n",
        "                 gripper_matrix: np.ndarray,\n",
        "                 gripper_joint_positions: np.ndarray,\n",
        "                 gripper_touch_forces: np.ndarray,\n",
        "                 task_low_dim_state: np.ndarray,\n",
        "                 ignore_collisions: np.ndarray,\n",
        "                 misc: dict):\n",
        "        self.left_shoulder_rgb = left_shoulder_rgb\n",
        "        self.left_shoulder_depth = left_shoulder_depth\n",
        "        self.left_shoulder_mask = left_shoulder_mask\n",
        "        self.left_shoulder_point_cloud = left_shoulder_point_cloud\n",
        "        self.right_shoulder_rgb = right_shoulder_rgb\n",
        "        self.right_shoulder_depth = right_shoulder_depth\n",
        "        self.right_shoulder_mask = right_shoulder_mask\n",
        "        self.right_shoulder_point_cloud = right_shoulder_point_cloud\n",
        "        self.overhead_rgb = overhead_rgb\n",
        "        self.overhead_depth = overhead_depth\n",
        "        self.overhead_mask = overhead_mask\n",
        "        self.overhead_point_cloud = overhead_point_cloud\n",
        "        self.wrist_rgb = wrist_rgb\n",
        "        self.wrist_depth = wrist_depth\n",
        "        self.wrist_mask = wrist_mask\n",
        "        self.wrist_point_cloud = wrist_point_cloud\n",
        "        self.front_rgb = front_rgb\n",
        "        self.front_depth = front_depth\n",
        "        self.front_mask = front_mask\n",
        "        self.front_point_cloud = front_point_cloud\n",
        "        self.joint_velocities = joint_velocities\n",
        "        self.joint_positions = joint_positions\n",
        "        self.joint_forces = joint_forces\n",
        "        self.gripper_open = gripper_open\n",
        "        self.gripper_pose = gripper_pose\n",
        "        self.gripper_matrix = gripper_matrix\n",
        "        self.gripper_joint_positions = gripper_joint_positions\n",
        "        self.gripper_touch_forces = gripper_touch_forces\n",
        "        self.task_low_dim_state = task_low_dim_state\n",
        "        self.ignore_collisions = ignore_collisions\n",
        "        self.misc = misc\n",
        "\n",
        "    def get_low_dim_data(self) -> np.ndarray:\n",
        "        \"\"\"Gets a 1D array of all the low-dimensional obseervations.\n",
        "        :return: 1D array of observations.\n",
        "        \"\"\"\n",
        "        low_dim_data = [] if self.gripper_open is None else [[self.gripper_open]]\n",
        "        for data in [self.joint_velocities, self.joint_positions,\n",
        "                     self.joint_forces,\n",
        "                     self.gripper_pose, self.gripper_joint_positions,\n",
        "                     self.gripper_touch_forces, self.task_low_dim_state]:\n",
        "            if data is not None:\n",
        "                low_dim_data.append(data)\n",
        "        return np.concatenate(low_dim_data) if len(low_dim_data) > 0 else np.array([])"
      ],
      "metadata": {
        "id": "cdkE-5xbjZPT"
      },
      "execution_count": null,
      "outputs": []
    },
    {
      "cell_type": "code",
      "source": [
        "from typing import Type\n",
        "\n",
        "class ObservationElement(object):\n",
        "\n",
        "    def __init__(self, name: str, shape: tuple, type: Type[np.dtype]):\n",
        "        self.name = name\n",
        "        self.shape = shape\n",
        "        self.type = type"
      ],
      "metadata": {
        "id": "s_ytYtm0jf1Z"
      },
      "execution_count": null,
      "outputs": []
    },
    {
      "cell_type": "markdown",
      "metadata": {
        "id": "a2rsOP6h1cRq"
      },
      "source": [
        "### Get Obs:"
      ]
    },
    {
      "cell_type": "code",
      "execution_count": null,
      "metadata": {
        "id": "E6ez0PDD0jzU"
      },
      "outputs": [],
      "source": [
        "def _normalize_fn(pc,far,near):\n",
        "  return (pc-near)/(far-near)"
      ]
    },
    {
      "cell_type": "code",
      "execution_count": null,
      "metadata": {
        "id": "5ZyCaKQc1d2E"
      },
      "outputs": [],
      "source": [
        "def get_observation(env) -> Observation:\n",
        "    #tip = self.robot.arm.get_tip()\n",
        "    _sim_pc = env.sim.physics_client\n",
        "    _sim = env.sim\n",
        "\n",
        "    panda_id = _sim._bodies_idx['panda']\n",
        "\n",
        "    pos = np.array([_sim_pc.getJointState(panda_id,i)[0] \\\n",
        "            for i in range(7)])\n",
        "    vels = np.array([_sim_pc.getJointState(panda_id,i)[1] \\\n",
        "            for i in range(7)])\n",
        "    joint_forces = np.array([_sim_pc.getJointState(panda_id,i)[3] \\\n",
        "                    for i in range(7)])\n",
        "    \n",
        "    ee_forces_flat = np.array(_sim_pc.getJointState(panda_id,6)[2])\n",
        "\n",
        "    rgb, depth, mask, cam_misc = env.render(mode = 'rgb_array')\n",
        "\n",
        "    left_shoulder_rgb = rgb['left_shoulder']\n",
        "    # adjust conventions\n",
        "    far = cam_misc['left_shoulder']['far']\n",
        "    near = cam_misc['left_shoulder']['near']\n",
        "    left_shoulder_depth = (far*near)/(far-(far-near)*depth['left_shoulder'])\n",
        "    # scale to be in [0,1]\n",
        "    left_shoulder_depth = _normalize_fn(left_shoulder_depth,far,near)\n",
        "    #\n",
        "    left_shoulder_mask = mask['left_shoulder']\n",
        "\n",
        "    right_shoulder_rgb = rgb['right_shoulder']\n",
        "    # adjust conventions\n",
        "    far = cam_misc['right_shoulder']['far']\n",
        "    near = cam_misc['right_shoulder']['near']\n",
        "    right_shoulder_depth = (far*near)/(far-(far-near)*depth['right_shoulder'])\n",
        "    # scale to be in [0,1]\n",
        "    right_shoulder_depth = _normalize_fn(right_shoulder_depth,far,near)\n",
        "    #\n",
        "    right_shoulder_mask = mask['right_shoulder']\n",
        "\n",
        "    #overhead_rgb = \n",
        "    #overhead_depth = \n",
        "    #overhead_mask = \n",
        "\n",
        "    wrist_rgb = rgb['wrist']\n",
        "    # adjust conventions\n",
        "    far = cam_misc['wrist']['far']\n",
        "    near = cam_misc['wrist']['near']\n",
        "    wrist_depth = (far*near)/(far-(far-near)*depth['wrist'])\n",
        "    # scale to be in [0,1]\n",
        "    wrist_depth = _normalize_fn(wrist_depth,far,near)\n",
        "    #\n",
        "    wrist_mask = mask['wrist']\n",
        "    \n",
        "    front_rgb = rgb['front']\n",
        "    # adjust conventions\n",
        "    far = cam_misc['front']['far']\n",
        "    near = cam_misc['front']['near']\n",
        "    front_depth = (far*near)/(far-(far-near)*depth['front'])\n",
        "    # scale to be in [0,1]\n",
        "    front_depth = _normalize_fn(front_depth,far,near)\n",
        "    #\n",
        "    front_mask = mask['front']\n",
        "\n",
        "    gripper_state = _sim_pc.getLinkState(0,11)\n",
        "    gripper_pose = np.concatenate(gripper_state[:2])\n",
        "\n",
        "    gripper_rot_mat = np.array(_sim_pc.getMatrixFromQuaternion(gripper_state[1])).reshape(-1,3)\n",
        "    gripper_matrix = np.row_stack((np.column_stack((gripper_rot_mat,gripper_pose[:3])),np.array([0,0,0,1])))\n",
        "\n",
        "    gripper_joint_pos = np.array([_sim_pc.getJointState(0, i)[0] for i in range(9,11)])\n",
        "\n",
        "    glass_id = _sim._bodies_idx['object']\n",
        "    cp9_glass = len(_sim_pc.getContactPoints(panda_id,glass_id, linkIndexA = 9))\n",
        "    cp10_glass = len(_sim_pc.getContactPoints(panda_id,glass_id, linkIndexA = 10))\n",
        "    ignore_collisions = np.array(1 if (cp9_glass>0 and cp10_glass>0) else 0)\n",
        "\n",
        "    gripper_op = (1 if env.robot.get_fingers_width() > 0.09 else 0)\n",
        "    cp9 = len(_sim_pc.getContactPoints(bodyA = panda_id, linkIndexA = 9))\n",
        "    cp10 = len(_sim_pc.getContactPoints(bodyA = panda_id, linkIndexA = 9))\n",
        "    gripper_with_obj = (1 if (cp9==0 and cp10==0) else 0)\n",
        "\n",
        "    gripper_open = (1.0 if (gripper_op==1 and gripper_with_obj==1) else 0)\n",
        "\n",
        "    obs = Observation(\n",
        "        left_shoulder_rgb=left_shoulder_rgb,\n",
        "        left_shoulder_depth=left_shoulder_depth,\n",
        "        left_shoulder_point_cloud = None,\n",
        "        right_shoulder_rgb=right_shoulder_rgb,\n",
        "        right_shoulder_depth=right_shoulder_depth,\n",
        "        right_shoulder_point_cloud= None,\n",
        "        overhead_rgb = None, #overhead_rgb,\n",
        "        overhead_depth = None, #overhead_depth,\n",
        "        overhead_point_cloud = None, #overhead_pcd,\n",
        "        wrist_rgb=wrist_rgb,\n",
        "        wrist_depth=wrist_depth,\n",
        "        wrist_point_cloud = None,\n",
        "        front_rgb=front_rgb,\n",
        "        front_depth=front_depth,\n",
        "        front_point_cloud=None,\n",
        "        left_shoulder_mask=left_shoulder_mask,\n",
        "        right_shoulder_mask=right_shoulder_mask,\n",
        "        overhead_mask= None, #overhead_mask,\n",
        "        wrist_mask = wrist_mask,\n",
        "        front_mask = front_mask,\n",
        "        joint_velocities = vels,\n",
        "        joint_positions = pos,\n",
        "        joint_forces = joint_forces,\n",
        "        gripper_open = gripper_open, \n",
        "        gripper_pose = gripper_pose,\n",
        "        gripper_matrix = gripper_matrix,\n",
        "        gripper_touch_forces = ee_forces_flat,\n",
        "        gripper_joint_positions = gripper_joint_pos,\n",
        "        task_low_dim_state = get_low_dim_state(env),\n",
        "        ignore_collisions = ignore_collisions, # get correct object\n",
        "        misc=_get_misc(cam_misc))#self._get_misc(),)\n",
        "    return obs\n",
        "\n",
        "\n",
        "def get_low_dim_state(env) -> np.ndarray:\n",
        "    \"\"\"Gets the pose and various other properties of objects in the task.\n",
        "    :return: 1D array of low-dimensional task state.\n",
        "    \"\"\"\n",
        "\n",
        "    # Corner cases:\n",
        "    # (1) Object has been deleted.\n",
        "    # (2) Object has been grasped (and is now child of gripper).\n",
        "\n",
        "    state = []\n",
        "    '''\n",
        "    for obj, objtype in self._initial_objs_in_scene:\n",
        "        if not obj.still_exists():\n",
        "            # It has been deleted\n",
        "            empty_len = 7\n",
        "            if objtype == ObjectType.JOINT:\n",
        "                empty_len += 1\n",
        "            elif objtype == ObjectType.FORCE_SENSOR:\n",
        "                empty_len += 6\n",
        "            state.extend(np.zeros((empty_len,)).tolist())\n",
        "        else:\n",
        "            state.extend(np.array(obj.get_pose()))\n",
        "            if obj.get_type() == ObjectType.JOINT:\n",
        "                state.extend([Joint(obj.get_handle()).get_joint_position()])\n",
        "            elif obj.get_type() == ObjectType.FORCE_SENSOR:\n",
        "                forces, torques = ForceSensor(obj.get_handle()).read()\n",
        "                state.extend(forces + torques)\n",
        "    '''\n",
        "    # might include panda also, not sure -- don't think it matters.\n",
        "    for obj in env.sim._bodies_idx.keys():\n",
        "      if obj=='panda':\n",
        "        continue\n",
        "      else:\n",
        "        state.extend(np.array(get_pose(env,obj)))\n",
        "\n",
        "    return np.array(state).flatten()\n",
        "\n",
        "def get_pose(env,body) -> np.ndarray:\n",
        "    \"\"\"Retrieves the position and quaternion of an object\n",
        "    :param relative_to: Indicates relative to which reference frame we want\n",
        "        the pose. Specify None to retrieve the absolute pose, or an Object\n",
        "        relative to whose reference frame we want the pose.\n",
        "    :return: An array containing the (X,Y,Z,Qx,Qy,Qz,Qw) pose of\n",
        "        the object.\n",
        "    \"\"\"\n",
        "    position,quaternion = env.sim.physics_client.getBasePositionAndOrientation(env.sim._bodies_idx[body])\n",
        "    return np.r_[position, quaternion]\n",
        "\n",
        "\n",
        "def _get_misc(misc_cam):\n",
        "    def _get_cam_data(misc_cam,name):\n",
        "        mc = misc_cam[name]\n",
        "        w,h = mc['width'], mc['height']\n",
        "        extrinsic = BullettocvPose(mc['view'])\n",
        "        intrinsic = BulletP2cvK(mc['proj'], w, h)[0]\n",
        "        \n",
        "        d = {\n",
        "            '%s_camera_extrinsics' % name: extrinsic,\n",
        "            '%s_camera_intrinsics' % name: intrinsic,\n",
        "            '%s_camera_near' % name: mc['near'],\n",
        "            '%s_camera_far' % name: mc['far'],\n",
        "        }\n",
        "        return d\n",
        "    misc = _get_cam_data(misc_cam, 'left_shoulder')\n",
        "    misc.update(_get_cam_data(misc_cam, 'right_shoulder'))\n",
        "    #misc.update(_get_cam_data(self._cam_overhead, 'overhead_camera'))\n",
        "    misc.update(_get_cam_data(misc_cam, 'front'))\n",
        "    misc.update(_get_cam_data(misc_cam, 'wrist'))\n",
        "    return misc"
      ]
    },
    {
      "cell_type": "markdown",
      "metadata": {
        "id": "2EXvzX3Pu440"
      },
      "source": [
        "## Save Demo"
      ]
    },
    {
      "cell_type": "code",
      "execution_count": null,
      "metadata": {
        "id": "qO_eZ-d6UxUd"
      },
      "outputs": [],
      "source": [
        "IMAGE_FORMAT = '%d.png'\n",
        "\n",
        "LEFT_SHOULDER_RGB_FOLDER = 'left_shoulder_rgb'\n",
        "LEFT_SHOULDER_DEPTH_FOLDER = 'left_shoulder_depth'\n",
        "LEFT_SHOULDER_MASK_FOLDER = 'left_shoulder_mask'\n",
        "RIGHT_SHOULDER_RGB_FOLDER = 'right_shoulder_rgb'\n",
        "RIGHT_SHOULDER_DEPTH_FOLDER = 'right_shoulder_depth'\n",
        "RIGHT_SHOULDER_MASK_FOLDER = 'right_shoulder_mask'\n",
        "OVERHEAD_RGB_FOLDER = 'overhead_rgb'\n",
        "OVERHEAD_DEPTH_FOLDER = 'overhead_depth'\n",
        "OVERHEAD_MASK_FOLDER = 'overhead_mask'\n",
        "WRIST_RGB_FOLDER = 'wrist_rgb'\n",
        "WRIST_DEPTH_FOLDER = 'wrist_depth'\n",
        "WRIST_MASK_FOLDER = 'wrist_mask'\n",
        "FRONT_RGB_FOLDER = 'front_rgb'\n",
        "FRONT_DEPTH_FOLDER = 'front_depth'\n",
        "FRONT_MASK_FOLDER = 'front_mask'\n",
        "EPISODES_FOLDER = 'episodes'\n",
        "EPISODE_FOLDER = 'episode%d'\n",
        "VARIATIONS_FOLDER = 'variation%d'\n",
        "\n",
        "LOW_DIM_PICKLE = 'low_dim_obs.pkl'\n",
        "VARIATION_DESCRIPTIONS = 'variation_descriptions.pkl'\n",
        "\n",
        "TTT_FILE = 'task_design.ttt'\n",
        "\n",
        "DEPTH_SCALE = 2**24 - 1"
      ]
    },
    {
      "cell_type": "code",
      "execution_count": null,
      "metadata": {
        "id": "DIiHgn3DKekG"
      },
      "outputs": [],
      "source": [
        "def save_demo(demo, example_path):\n",
        "    # Save image data first, and then None the image data, and pickle\n",
        "    left_shoulder_rgb_path = os.path.join(\n",
        "        example_path, LEFT_SHOULDER_RGB_FOLDER)\n",
        "    left_shoulder_depth_path = os.path.join(\n",
        "        example_path, LEFT_SHOULDER_DEPTH_FOLDER)\n",
        "    left_shoulder_mask_path = os.path.join(\n",
        "        example_path, LEFT_SHOULDER_MASK_FOLDER)\n",
        "    right_shoulder_rgb_path = os.path.join(\n",
        "        example_path, RIGHT_SHOULDER_RGB_FOLDER)\n",
        "    right_shoulder_depth_path = os.path.join(\n",
        "        example_path, RIGHT_SHOULDER_DEPTH_FOLDER)\n",
        "    right_shoulder_mask_path = os.path.join(\n",
        "        example_path, RIGHT_SHOULDER_MASK_FOLDER)\n",
        "    #overhead_rgb_path = os.path.join(\n",
        "    #    example_path, OVERHEAD_RGB_FOLDER)\n",
        "    #overhead_depth_path = os.path.join(\n",
        "    #    example_path, OVERHEAD_DEPTH_FOLDER)\n",
        "    #overhead_mask_path = os.path.join(\n",
        "    #    example_path, OVERHEAD_MASK_FOLDER)\n",
        "    wrist_rgb_path = os.path.join(example_path, WRIST_RGB_FOLDER)\n",
        "    wrist_depth_path = os.path.join(example_path, WRIST_DEPTH_FOLDER)\n",
        "    wrist_mask_path = os.path.join(example_path, WRIST_MASK_FOLDER)\n",
        "    front_rgb_path = os.path.join(example_path, FRONT_RGB_FOLDER)\n",
        "    front_depth_path = os.path.join(example_path, FRONT_DEPTH_FOLDER)\n",
        "    front_mask_path = os.path.join(example_path, FRONT_MASK_FOLDER)\n",
        "\n",
        "    check_and_make(left_shoulder_rgb_path)\n",
        "    check_and_make(left_shoulder_depth_path)\n",
        "    check_and_make(left_shoulder_mask_path)\n",
        "    check_and_make(right_shoulder_rgb_path)\n",
        "    check_and_make(right_shoulder_depth_path)\n",
        "    check_and_make(right_shoulder_mask_path)\n",
        "    #check_and_make(overhead_rgb_path)\n",
        "    #check_and_make(overhead_depth_path)\n",
        "    #check_and_make(overhead_mask_path)\n",
        "    check_and_make(wrist_rgb_path)\n",
        "    check_and_make(wrist_depth_path)\n",
        "    check_and_make(wrist_mask_path)\n",
        "    check_and_make(front_rgb_path)\n",
        "    check_and_make(front_depth_path)\n",
        "    check_and_make(front_mask_path)\n",
        "\n",
        "    for i, obs in enumerate(demo):\n",
        "        left_shoulder_rgb = Image.fromarray(obs.left_shoulder_rgb)\n",
        "        left_shoulder_depth = float_array_to_rgb_image(\n",
        "            obs.left_shoulder_depth, scale_factor=DEPTH_SCALE)\n",
        "        left_shoulder_mask = Image.fromarray(\n",
        "            (obs.left_shoulder_mask * 255).astype(np.uint8))\n",
        "        right_shoulder_rgb = Image.fromarray(obs.right_shoulder_rgb)\n",
        "        right_shoulder_depth = float_array_to_rgb_image(\n",
        "            obs.right_shoulder_depth, scale_factor=DEPTH_SCALE)\n",
        "        right_shoulder_mask = Image.fromarray(\n",
        "            (obs.right_shoulder_mask * 255).astype(np.uint8))\n",
        "        #overhead_rgb = Image.fromarray(obs.overhead_rgb)\n",
        "        #overhead_depth = float_array_to_rgb_image(\n",
        "        #    obs.overhead_depth, scale_factor=DEPTH_SCALE)\n",
        "        #overhead_mask = Image.fromarray(\n",
        "        #    (obs.overhead_mask * 255).astype(np.uint8))\n",
        "        wrist_rgb = Image.fromarray(obs.wrist_rgb)\n",
        "        wrist_depth = float_array_to_rgb_image(\n",
        "            obs.wrist_depth, scale_factor=DEPTH_SCALE)\n",
        "        wrist_mask = Image.fromarray((obs.wrist_mask * 255).astype(np.uint8))\n",
        "        front_rgb = Image.fromarray(obs.front_rgb)\n",
        "        front_depth = float_array_to_rgb_image(\n",
        "            obs.front_depth, scale_factor=DEPTH_SCALE)\n",
        "        front_mask = Image.fromarray((obs.front_mask * 255).astype(np.uint8))\n",
        "\n",
        "        left_shoulder_rgb.save(\n",
        "            os.path.join(left_shoulder_rgb_path, IMAGE_FORMAT % i))\n",
        "        left_shoulder_depth.save(\n",
        "            os.path.join(left_shoulder_depth_path, IMAGE_FORMAT % i))\n",
        "        left_shoulder_mask.save(\n",
        "            os.path.join(left_shoulder_mask_path, IMAGE_FORMAT % i))\n",
        "        right_shoulder_rgb.save(\n",
        "            os.path.join(right_shoulder_rgb_path, IMAGE_FORMAT % i))\n",
        "        right_shoulder_depth.save(\n",
        "            os.path.join(right_shoulder_depth_path, IMAGE_FORMAT % i))\n",
        "        right_shoulder_mask.save(\n",
        "            os.path.join(right_shoulder_mask_path, IMAGE_FORMAT % i))\n",
        "        #overhead_rgb.save(\n",
        "        #    os.path.join(overhead_rgb_path, IMAGE_FORMAT % i))\n",
        "        #overhead_depth.save(\n",
        "        #    os.path.join(overhead_depth_path, IMAGE_FORMAT % i))\n",
        "        #overhead_mask.save(\n",
        "        #    os.path.join(overhead_mask_path, IMAGE_FORMAT % i))\n",
        "        wrist_rgb.save(os.path.join(wrist_rgb_path, IMAGE_FORMAT % i))\n",
        "        wrist_depth.save(os.path.join(wrist_depth_path, IMAGE_FORMAT % i))\n",
        "        wrist_mask.save(os.path.join(wrist_mask_path, IMAGE_FORMAT % i))\n",
        "        front_rgb.save(os.path.join(front_rgb_path, IMAGE_FORMAT % i))\n",
        "        front_depth.save(os.path.join(front_depth_path, IMAGE_FORMAT % i))\n",
        "        front_mask.save(os.path.join(front_mask_path, IMAGE_FORMAT % i))\n",
        "\n",
        "        # We save the images separately, so set these to None for pickling.\n",
        "        obs.left_shoulder_rgb = None\n",
        "        obs.left_shoulder_depth = None\n",
        "        obs.left_shoulder_point_cloud = None\n",
        "        obs.left_shoulder_mask = None\n",
        "        obs.right_shoulder_rgb = None\n",
        "        obs.right_shoulder_depth = None\n",
        "        obs.right_shoulder_point_cloud = None\n",
        "        obs.right_shoulder_mask = None\n",
        "        #obs.overhead_rgb = None\n",
        "        #obs.overhead_depth = None\n",
        "        #obs.overhead_point_cloud = None\n",
        "        #obs.overhead_mask = None\n",
        "        obs.wrist_rgb = None\n",
        "        obs.wrist_depth = None\n",
        "        obs.wrist_point_cloud = None\n",
        "        obs.wrist_mask = None\n",
        "        obs.front_rgb = None\n",
        "        obs.front_depth = None\n",
        "        obs.front_point_cloud = None\n",
        "        obs.front_mask = None\n",
        "\n",
        "    # Save the low-dimension data\n",
        "    with open(os.path.join(example_path, LOW_DIM_PICKLE), 'wb') as f:\n",
        "        pickle.dump(demo, f)"
      ]
    },
    {
      "cell_type": "code",
      "source": [
        "EPISODE_FOLDER = 'episode%d'\n",
        "\n",
        "CAMERA_FRONT = 'front'\n",
        "CAMERA_LS = 'left_shoulder'\n",
        "CAMERA_RS = 'right_shoulder'\n",
        "CAMERA_WRIST = 'wrist'\n",
        "CAMERAS = [CAMERA_FRONT, CAMERA_LS, CAMERA_RS, CAMERA_WRIST]\n",
        "\n",
        "IMAGE_RGB = 'rgb'\n",
        "IMAGE_DEPTH = 'depth'\n",
        "IMAGE_TYPES = [IMAGE_RGB, IMAGE_DEPTH]\n",
        "IMAGE_FORMAT  = '%d.png'\n",
        "LOW_DIM_PICKLE = 'low_dim_obs.pkl'\n",
        "\n",
        "def check_demo(data_path, index):\n",
        "  episode_path = os.path.join(data_path, EPISODE_FOLDER % index)\n",
        "  \n",
        "  # low dim pickle file\n",
        "  with open(os.path.join(episode_path, LOW_DIM_PICKLE), 'rb') as f:\n",
        "    obs = pickle.load(f)\n",
        "  \n",
        "  num_steps = len(obs)\n",
        "  for i in range(num_steps):\n",
        "    front_rgb = os.path.isfile(os.path.join(episode_path, '%s_%s' % (CAMERA_FRONT, IMAGE_RGB), IMAGE_FORMAT % i))\n",
        "    left_shoulder_rgb = os.path.isfile(os.path.join(episode_path, '%s_%s' % (CAMERA_LS, IMAGE_RGB), IMAGE_FORMAT % i))\n",
        "    right_shoulder_rgb = os.path.isfile(os.path.join(episode_path, '%s_%s' % (CAMERA_RS, IMAGE_RGB), IMAGE_FORMAT % i))\n",
        "    wrist_rgb = os.path.isfile(os.path.join(episode_path, '%s_%s' % (CAMERA_WRIST, IMAGE_RGB), IMAGE_FORMAT % i))\n",
        "\n",
        "    front_depth = os.path.isfile(os.path.join(episode_path, '%s_%s' % (CAMERA_FRONT, IMAGE_DEPTH), IMAGE_FORMAT % i))\n",
        "    left_shoulder_depth = os.path.isfile(os.path.join(episode_path, '%s_%s' % (CAMERA_LS, IMAGE_DEPTH), IMAGE_FORMAT % i))\n",
        "    right_shoulder_depth = os.path.isfile(os.path.join(episode_path, '%s_%s' % (CAMERA_RS, IMAGE_DEPTH), IMAGE_FORMAT % i))\n",
        "    wrist_depth = os.path.isfile(os.path.join(episode_path, '%s_%s' % (CAMERA_WRIST, IMAGE_DEPTH), IMAGE_FORMAT % i))\n",
        "\n",
        "    front_pc = os.path.isfile(os.path.join(episode_path, '%s_%s' % (CAMERA_FRONT, IMAGE_DEPTH), IMAGE_FORMAT % i))\n",
        "    left_shoulder_pc = os.path.isfile(os.path.join(episode_path, '%s_%s' % (CAMERA_LS, IMAGE_DEPTH), IMAGE_FORMAT % i))\n",
        "    right_shoulder_pc = os.path.isfile(os.path.join(episode_path, '%s_%s' % (CAMERA_RS, IMAGE_DEPTH), IMAGE_FORMAT % i))\n",
        "    wrist_pc = os.path.isfile(os.path.join(episode_path, '%s_%s' % (CAMERA_WRIST, IMAGE_DEPTH), IMAGE_FORMAT % i))\n",
        "\n",
        "    # mask not necessary for PyBulletPerAct but might be for other applications.\n",
        "    \n",
        "    tot = [front_rgb,left_shoulder_rgb,right_shoulder_rgb,wrist_rgb,\\\n",
        "           front_depth,left_shoulder_depth,right_shoulder_depth,wrist_depth,\\\n",
        "           front_pc,left_shoulder_pc,right_shoulder_pc,wrist_pc]\n",
        "\n",
        "    if not all(tot):\n",
        "      return False, i\n",
        "\n",
        "  return True, -1"
      ],
      "metadata": {
        "id": "zYssRaFtnKTr"
      },
      "execution_count": null,
      "outputs": []
    },
    {
      "cell_type": "markdown",
      "metadata": {
        "id": "5OfyHcM0TCV2"
      },
      "source": [
        "Let's do a quick check for storing pointclouds:"
      ]
    },
    {
      "cell_type": "code",
      "execution_count": null,
      "metadata": {
        "colab": {
          "base_uri": "https://localhost:8080/"
        },
        "id": "sBMrNRHZTHvI",
        "outputId": "c82881eb-38c0-43cb-9205-3657f3b0fc58"
      },
      "outputs": [
        {
          "output_type": "stream",
          "name": "stderr",
          "text": [
            "/content/PyBulletPerAct/panda_gym/pybullet.py:926: UserWarning: The use of the render method is not recommended when the environment has not been created with render=True. The rendering will probably be weird. Prefer making the environment with option `render=True`. For example: `env = gym.make('PandaReach-v2', render=True)`.\n",
            "  warnings.warn(\n",
            "/content/PyBulletPerAct/panda_gym/pybullet.py:1003: UserWarning: The use of the render method is not recommended when the environment has not been created with render=True. The rendering will probably be weird. Prefer making the environment with option `render=True`. For example: `env = gym.make('PandaReach-v2', render=True)`.\n",
            "  warnings.warn(\n"
          ]
        }
      ],
      "source": [
        "test_obs = get_observation(env)"
      ]
    },
    {
      "cell_type": "code",
      "execution_count": null,
      "metadata": {
        "colab": {
          "base_uri": "https://localhost:8080/",
          "height": 145
        },
        "id": "b3SldAGHS9qu",
        "outputId": "a8397a68-60ea-479d-bfc0-fd4b32f6b62a"
      },
      "outputs": [
        {
          "output_type": "execute_result",
          "data": {
            "text/plain": [
              "<PIL.Image.Image image mode=RGB size=128x128 at 0x7FD744566E50>"
            ],
            "image/png": "[encoded data removed]"
          },
          "metadata": {},
          "execution_count": 23
        }
      ],
      "source": [
        "float_array_to_rgb_image(test_obs.front_depth, scale_factor=DEPTH_SCALE)"
      ]
    },
    {
      "cell_type": "markdown",
      "metadata": {
        "id": "R9dM467t527x"
      },
      "source": [
        "## Create Demo\n"
      ]
    },
    {
      "cell_type": "markdown",
      "source": [
        "### Some basic utils for panda control"
      ],
      "metadata": {
        "id": "s21xjVfxkLp-"
      }
    },
    {
      "cell_type": "code",
      "execution_count": null,
      "metadata": {
        "id": "D8-rcGAi55zi"
      },
      "outputs": [],
      "source": [
        "def distance(x,y):\n",
        "  return (np.sum((x-y)**2))\n",
        "\n",
        "def approach_target(goal, from_side = True, ornt = np.array([1.0,0.0,0.0,0.0]), grip = 0, max_steps = 50, precision = 0.001):\n",
        "\n",
        "  tot_obs=[]\n",
        "  ee_position = env.robot.get_ee_position()\n",
        "  steps=0\n",
        "  \n",
        "  while np.sqrt(distance(goal,ee_position)) > precision and steps<max_steps:\n",
        "\n",
        "    multiplier = 5.0 if distance(goal,ee_position)>0.005 else 10.0\n",
        "    ee_displacement = multiplier * (goal - ee_position)\n",
        "    target_ee_position = ee_position + ee_displacement\n",
        "    target_ee_position[2] = np.max((0, target_ee_position[2]))\n",
        "\n",
        "    if from_side:\n",
        "      ornt = np.array([-0.07942096,  0.72870646, -0.00803236,  0.68015784]) #np.array(p.getQuaternionFromEuler([math.pi,-math.pi/2,0]))\n",
        "\n",
        "    target_arm_angles = env.robot.inverse_kinematics(link=11, \\\n",
        "                                                      position = target_ee_position, \\\n",
        "                                                      orientation = ornt\n",
        "                                                      )\n",
        "    target_arm_angles = target_arm_angles[:7]\n",
        "\n",
        "    action = target_arm_angles - np.array([env.robot.get_joint_angle(joint=i) for i in range(7)])\n",
        "    action = np.concatenate((action, [grip]))\n",
        "\n",
        "    current_obs = get_observation(env)\n",
        "    tot_obs.append(current_obs)\n",
        "\n",
        "    _, _, _, _ = env.step(action)\n",
        "    ee_position = env.robot.get_ee_position()\n",
        "    steps+=1\n",
        "  \n",
        "  current_obs = get_observation(env)\n",
        "  tot_obs.append(current_obs)\n",
        "  \n",
        "  print(steps)\n",
        "  return tot_obs\n",
        "\n",
        "def close_gripper():\n",
        "  tot_obs=[]\n",
        "\n",
        "  for _ in range(15):\n",
        "    action = np.concatenate(([0,0,0,0,0,0,0], [-1]))\n",
        "    current_obs = get_observation(env)\n",
        "    tot_obs.append(current_obs)\n",
        "\n",
        "    _,_,_,_ = env.step(action)\n",
        "  \n",
        "  current_obs = get_observation(env)\n",
        "  tot_obs.append(current_obs)\n",
        "\n",
        "  return tot_obs\n",
        "\n",
        "def pour(angle_shift = 0, right = True):\n",
        "  tot_obs=[]\n",
        "  og_angle = env.sim.physics_client.getJointState(0,6)[0]#starting angle is at math.pi/4 \n",
        "  angle = env.sim.physics_client.getJointState(0,6)[0]\n",
        "  steps = 0\n",
        "  action = (np.concatenate(([0,0,0,0,0,0,-1], [-1])) if right else np.concatenate(([0,0,0,0,0,0,1], [-1])))\n",
        "  if not right: # only right=false works reliably\n",
        "    while og_angle+angle_shift > angle: \n",
        "      current_obs = get_observation(env)\n",
        "      tot_obs.append(current_obs)\n",
        "\n",
        "      _, _, _, _ = env.step(action)\n",
        "      angle = env.sim.physics_client.getJointState(0,6)[0]\n",
        "      steps +=1\n",
        "  else:\n",
        "    while og_angle-angle_shift < angle:\n",
        "      current_obs = get_observation(env)\n",
        "      tot_obs.append(current_obs)\n",
        "\n",
        "      _, _, _, _ = env.step(action)\n",
        "      angle = env.sim.physics_client.getJointState(0,6)[0]\n",
        "      steps +=1\n",
        "    \n",
        "    #last obs\n",
        "    current_obs = get_observation(env)\n",
        "    tot_obs.append(current_obs)\n",
        "\n",
        "    _, _, _, _ = env.step(action)\n",
        "    angle = env.sim.physics_client.getJointState(0,6)[0]\n",
        "    steps +=1\n",
        "  \n",
        "  current_obs = get_observation(env)\n",
        "  tot_obs.append(current_obs)\n",
        "  print(steps)\n",
        "  return tot_obs\n",
        "\n",
        "def count_nr_in_tg(env):\n",
        "  obj=env.sim.get_base_position('object')\n",
        "  tg=env.sim.get_base_position('target')\n",
        "\n",
        "  nr_in_tg=0\n",
        "  nr_in_obj = 0\n",
        "  nr_in_tbl = 0\n",
        "  dist=[]\n",
        "\n",
        "  for i in range(env.task.sph):\n",
        "      for j in range(env.task.sph):\n",
        "          for k in range(env.task.sph):\n",
        "              pos = env.sim.get_base_position('s'+str(i)+str(j)+str(k))\n",
        "              \n",
        "              dist.append((np.sqrt(distance(pos,tg)),np.sqrt(distance(pos,obj))))\n",
        "              #if np.sqrt(distance(pos,tg)) > 0.02 and np.sqrt(distance(pos,obj)) > 0.02:\n",
        "              if pos[2]>0.01:\n",
        "                  nr_in_obj+=1\n",
        "              elif np.sqrt(distance(pos[:2],tg[:2])) < 0.055:\n",
        "                  nr_in_tg+=1\n",
        "              else:\n",
        "                  nr_in_tbl+=1\n",
        "\n",
        "  return nr_in_tg, nr_in_obj, nr_in_tbl, dist"
      ]
    },
    {
      "cell_type": "code",
      "execution_count": null,
      "metadata": {
        "id": "zMSiCyP4NaBo"
      },
      "outputs": [],
      "source": [
        "#env.close()\n",
        "env = gym.make('PandaPickAndPlace-v2',control_type='joints')\n",
        "obs = env.reset()\n",
        "\n",
        "env.robot.neutral_joint_values = np.array([0.00, 0.41, 0.00, -1.85, 3.14, 2.52, 0.79, 3.00, 3.00])\n",
        "[(env.sim.physics_client.enableJointForceTorqueSensor(0,i)) for i in range(11)];"
      ]
    },
    {
      "cell_type": "code",
      "execution_count": null,
      "metadata": {
        "colab": {
          "base_uri": "https://localhost:8080/",
          "height": 128
        },
        "id": "XST1xS12Nh-Z",
        "outputId": "e5db6bcc-9165-4a17-a49a-a302d8056e48"
      },
      "outputs": [
        {
          "output_type": "display_data",
          "data": {
            "text/plain": [
              "<Figure size 128x128 with 1 Axes>"
            ],
            "image/png": "[encoded data removed]"
          },
          "metadata": {
            "needs_background": "light"
          }
        }
      ],
      "source": [
        "obs = env.reset()\n",
        "rgb, depth, mask, misc = env.render(mode = 'rgb_array')\n",
        "display.HTML(display_anim([rgb['front']]));"
      ]
    },
    {
      "cell_type": "markdown",
      "source": [
        "### Basic example for \"pick, place and pour\""
      ],
      "metadata": {
        "id": "Czhqn7n4kZH-"
      }
    },
    {
      "cell_type": "code",
      "source": [
        "from matplotlib import pyplot as plt\n",
        "from IPython import display"
      ],
      "metadata": {
        "id": "UvWpk40F3OvF"
      },
      "execution_count": null,
      "outputs": []
    },
    {
      "cell_type": "code",
      "execution_count": null,
      "metadata": {
        "colab": {
          "base_uri": "https://localhost:8080/",
          "height": 1000
        },
        "id": "1RFRRNY_NGgR",
        "outputId": "222f9268-17c3-4952-9f15-e27ba6670fb8"
      },
      "outputs": [
        {
          "output_type": "stream",
          "name": "stdout",
          "text": [
            "----- 0 -----\n",
            "6\n",
            "-----\n",
            "50\n",
            "-----\n",
            "50\n",
            "-----\n",
            "12\n",
            "-----\n",
            "24\n",
            "-----\n",
            "Final distance between blue and red cup: 0.169m\n",
            "visual check final frame:\n"
          ]
        },
        {
          "output_type": "display_data",
          "data": {
            "text/plain": [
              "<Figure size 432x288 with 1 Axes>"
            ],
            "image/png": "[encoded data removed]"
          },
          "metadata": {}
        },
        {
          "output_type": "stream",
          "name": "stdout",
          "text": [
            "----- 1 -----\n",
            "8\n",
            "-----\n",
            "50\n",
            "-----\n",
            "50\n",
            "-----\n",
            "12\n",
            "-----\n",
            "50\n",
            "-----\n",
            "Final distance between blue and red cup: 0.207m\n",
            "visual check final frame:\n"
          ]
        },
        {
          "output_type": "display_data",
          "data": {
            "text/plain": [
              "<Figure size 432x288 with 1 Axes>"
            ],
            "image/png": "[encoded data removed]"
          },
          "metadata": {}
        },
        {
          "output_type": "stream",
          "name": "stdout",
          "text": [
            "----- 2 -----\n",
            "26\n",
            "-----\n",
            "50\n",
            "-----\n",
            "50\n",
            "-----\n",
            "15\n",
            "-----\n",
            "18\n",
            "-----\n",
            "Final distance between blue and red cup: 0.170m\n",
            "visual check final frame:\n"
          ]
        },
        {
          "output_type": "display_data",
          "data": {
            "text/plain": [
              "<Figure size 432x288 with 1 Axes>"
            ],
            "image/png": "[encoded data removed]"
          },
          "metadata": {}
        },
        {
          "output_type": "stream",
          "name": "stdout",
          "text": [
            "----- 3 -----\n",
            "17\n",
            "-----\n",
            "50\n",
            "-----\n",
            "50\n",
            "-----\n",
            "15\n",
            "-----\n",
            "50\n",
            "-----\n",
            "Final distance between blue and red cup: 0.213m\n",
            "visual check final frame:\n"
          ]
        },
        {
          "output_type": "display_data",
          "data": {
            "text/plain": [
              "<Figure size 432x288 with 1 Axes>"
            ],
            "image/png": "[encoded data removed]"
          },
          "metadata": {}
        },
        {
          "output_type": "stream",
          "name": "stdout",
          "text": [
            "----- 4 -----\n",
            "40\n",
            "-----\n",
            "50\n",
            "-----\n",
            "50\n",
            "-----\n",
            "16\n",
            "-----\n",
            "21\n",
            "-----\n",
            "Final distance between blue and red cup: 0.170m\n",
            "visual check final frame:\n"
          ]
        },
        {
          "output_type": "display_data",
          "data": {
            "text/plain": [
              "<Figure size 432x288 with 1 Axes>"
            ],
            "image/png": "[encoded data removed]"
          },
          "metadata": {}
        },
        {
          "output_type": "stream",
          "name": "stdout",
          "text": [
            "----- 5 -----\n",
            "8\n",
            "-----\n",
            "50\n",
            "-----\n",
            "50\n",
            "-----\n",
            "13\n",
            "-----\n",
            "28\n",
            "-----\n",
            "Final distance between blue and red cup: 0.168m\n",
            "visual check final frame:\n"
          ]
        },
        {
          "output_type": "display_data",
          "data": {
            "text/plain": [
              "<Figure size 432x288 with 1 Axes>"
            ],
            "image/png": "[encoded data removed]"
          },
          "metadata": {}
        },
        {
          "output_type": "stream",
          "name": "stdout",
          "text": [
            "----- 6 -----\n",
            "23\n",
            "-----\n",
            "50\n",
            "-----\n",
            "50\n",
            "-----\n",
            "13\n",
            "-----\n",
            "50\n",
            "-----\n",
            "Final distance between blue and red cup: 0.172m\n",
            "visual check final frame:\n"
          ]
        },
        {
          "output_type": "display_data",
          "data": {
            "text/plain": [
              "<Figure size 432x288 with 1 Axes>"
            ],
            "image/png": "[encoded data removed]"
          },
          "metadata": {}
        },
        {
          "output_type": "stream",
          "name": "stdout",
          "text": [
            "----- 7 -----\n",
            "6\n",
            "-----\n",
            "50\n",
            "-----\n",
            "50\n",
            "-----\n",
            "10\n",
            "-----\n",
            "50\n",
            "-----\n",
            "Final distance between blue and red cup: 0.457m\n",
            "visual check final frame:\n"
          ]
        },
        {
          "output_type": "display_data",
          "data": {
            "text/plain": [
              "<Figure size 432x288 with 1 Axes>"
            ],
            "image/png": "[encoded data removed]"
          },
          "metadata": {}
        },
        {
          "output_type": "stream",
          "name": "stdout",
          "text": [
            "----- 8 -----\n",
            "4\n",
            "-----\n",
            "47\n",
            "-----\n",
            "50\n",
            "-----\n",
            "12\n",
            "-----\n",
            "25\n",
            "-----\n",
            "Final distance between blue and red cup: 0.170m\n",
            "visual check final frame:\n"
          ]
        },
        {
          "output_type": "display_data",
          "data": {
            "text/plain": [
              "<Figure size 432x288 with 1 Axes>"
            ],
            "image/png": "[encoded data removed]"
          },
          "metadata": {}
        },
        {
          "output_type": "stream",
          "name": "stdout",
          "text": [
            "----- 9 -----\n",
            "32\n",
            "-----\n",
            "50\n",
            "-----\n",
            "50\n",
            "-----\n",
            "17\n",
            "-----\n",
            "19\n",
            "-----\n",
            "Final distance between blue and red cup: 0.241m\n",
            "visual check final frame:\n"
          ]
        },
        {
          "output_type": "display_data",
          "data": {
            "text/plain": [
              "<Figure size 432x288 with 1 Axes>"
            ],
            "image/png": "[encoded data removed]"
          },
          "metadata": {}
        },
        {
          "output_type": "stream",
          "name": "stdout",
          "text": [
            "----- 10 -----\n",
            "7\n",
            "-----\n",
            "35\n",
            "-----\n",
            "50\n",
            "-----\n",
            "12\n",
            "-----\n",
            "50\n",
            "-----\n",
            "Final distance between blue and red cup: 0.170m\n",
            "visual check final frame:\n"
          ]
        },
        {
          "output_type": "display_data",
          "data": {
            "text/plain": [
              "<Figure size 432x288 with 1 Axes>"
            ],
            "image/png": "[encoded data removed]"
          },
          "metadata": {}
        },
        {
          "output_type": "stream",
          "name": "stdout",
          "text": [
            "----- 11 -----\n",
            "5\n",
            "-----\n",
            "50\n",
            "-----\n",
            "50\n",
            "-----\n",
            "11\n",
            "-----\n",
            "50\n",
            "-----\n",
            "Final distance between blue and red cup: 0.556m\n",
            "visual check final frame:\n"
          ]
        },
        {
          "output_type": "display_data",
          "data": {
            "text/plain": [
              "<Figure size 432x288 with 1 Axes>"
            ],
            "image/png": "[encoded data removed]"
          },
          "metadata": {}
        },
        {
          "output_type": "stream",
          "name": "stdout",
          "text": [
            "----- 12 -----\n",
            "5\n",
            "-----\n",
            "50\n",
            "-----\n",
            "50\n",
            "-----\n",
            "12\n",
            "-----\n",
            "50\n",
            "-----\n",
            "Final distance between blue and red cup: 0.297m\n",
            "visual check final frame:\n"
          ]
        },
        {
          "output_type": "display_data",
          "data": {
            "text/plain": [
              "<Figure size 432x288 with 1 Axes>"
            ],
            "image/png": "[encoded data removed]"
          },
          "metadata": {}
        },
        {
          "output_type": "stream",
          "name": "stdout",
          "text": [
            "----- 13 -----\n",
            "42\n",
            "-----\n",
            "50\n",
            "-----\n",
            "50\n",
            "-----\n",
            "16\n",
            "-----\n",
            "50\n",
            "-----\n",
            "Final distance between blue and red cup: 0.169m\n",
            "visual check final frame:\n"
          ]
        },
        {
          "output_type": "display_data",
          "data": {
            "text/plain": [
              "<Figure size 432x288 with 1 Axes>"
            ],
            "image/png": "[encoded data removed]"
          },
          "metadata": {}
        },
        {
          "output_type": "stream",
          "name": "stdout",
          "text": [
            "----- 14 -----\n",
            "50\n",
            "-----\n",
            "50\n",
            "-----\n",
            "50\n",
            "-----\n",
            "17\n",
            "-----\n",
            "23\n",
            "-----\n",
            "Final distance between blue and red cup: 0.167m\n",
            "visual check final frame:\n"
          ]
        },
        {
          "output_type": "display_data",
          "data": {
            "text/plain": [
              "<Figure size 432x288 with 1 Axes>"
            ],
            "image/png": "[encoded data removed]"
          },
          "metadata": {}
        },
        {
          "output_type": "stream",
          "name": "stdout",
          "text": [
            "----- 15 -----\n",
            "18\n",
            "-----\n",
            "50\n",
            "-----\n",
            "50\n",
            "-----\n",
            "15\n",
            "-----\n",
            "50\n",
            "-----\n",
            "Final distance between blue and red cup: 0.169m\n",
            "visual check final frame:\n"
          ]
        },
        {
          "output_type": "display_data",
          "data": {
            "text/plain": [
              "<Figure size 432x288 with 1 Axes>"
            ],
            "image/png": "[encoded data removed]"
          },
          "metadata": {}
        },
        {
          "output_type": "stream",
          "name": "stdout",
          "text": [
            "----- 16 -----\n",
            "9\n",
            "-----\n",
            "50\n",
            "-----\n",
            "50\n",
            "-----\n",
            "12\n",
            "-----\n",
            "50\n",
            "-----\n",
            "Final distance between blue and red cup: 0.178m\n",
            "visual check final frame:\n"
          ]
        },
        {
          "output_type": "display_data",
          "data": {
            "text/plain": [
              "<Figure size 432x288 with 1 Axes>"
            ],
            "image/png": "[encoded data removed]"
          },
          "metadata": {}
        },
        {
          "output_type": "stream",
          "name": "stdout",
          "text": [
            "----- 17 -----\n",
            "10\n",
            "-----\n",
            "50\n",
            "-----\n",
            "50\n",
            "-----\n",
            "8\n",
            "-----\n",
            "50\n",
            "-----\n",
            "Final distance between blue and red cup: 0.380m\n",
            "visual check final frame:\n"
          ]
        },
        {
          "output_type": "display_data",
          "data": {
            "text/plain": [
              "<Figure size 432x288 with 1 Axes>"
            ],
            "image/png": "[encoded data removed]"
          },
          "metadata": {}
        },
        {
          "output_type": "stream",
          "name": "stdout",
          "text": [
            "----- 18 -----\n",
            "42\n",
            "-----\n",
            "50\n",
            "-----\n",
            "50\n",
            "-----\n",
            "18\n",
            "-----\n",
            "50\n",
            "-----\n",
            "Final distance between blue and red cup: 0.171m\n",
            "visual check final frame:\n"
          ]
        },
        {
          "output_type": "display_data",
          "data": {
            "text/plain": [
              "<Figure size 432x288 with 1 Axes>"
            ],
            "image/png": "[encoded data removed]"
          },
          "metadata": {}
        },
        {
          "output_type": "stream",
          "name": "stdout",
          "text": [
            "----- 19 -----\n",
            "8\n",
            "-----\n",
            "50\n",
            "-----\n",
            "50\n",
            "-----\n",
            "11\n",
            "-----\n",
            "50\n",
            "-----\n",
            "Final distance between blue and red cup: 0.651m\n",
            "visual check final frame:\n"
          ]
        },
        {
          "output_type": "display_data",
          "data": {
            "text/plain": [
              "<Figure size 432x288 with 1 Axes>"
            ],
            "image/png": "[encoded data removed]"
          },
          "metadata": {}
        },
        {
          "output_type": "display_data",
          "data": {
            "text/plain": [
              "<Figure size 432x288 with 1 Axes>"
            ],
            "image/png": "[encoded data removed]"
          },
          "metadata": {
            "needs_background": "light"
          }
        },
        {
          "output_type": "display_data",
          "data": {
            "text/plain": [
              "<Figure size 432x288 with 1 Axes>"
            ],
            "image/png": "[encoded data removed]"
          },
          "metadata": {
            "needs_background": "light"
          }
        },
        {
          "output_type": "display_data",
          "data": {
            "text/plain": [
              "<Figure size 432x288 with 1 Axes>"
            ],
            "image/png": "[encoded data removed]"
          },
          "metadata": {
            "needs_background": "light"
          }
        },
        {
          "output_type": "display_data",
          "data": {
            "text/plain": [
              "<Figure size 432x288 with 1 Axes>"
            ],
            "image/png": "[encoded data removed]"
          },
          "metadata": {
            "needs_background": "light"
          }
        },
        {
          "output_type": "display_data",
          "data": {
            "text/plain": [
              "<Figure size 432x288 with 1 Axes>"
            ],
            "image/png": "[encoded data removed]"
          },
          "metadata": {
            "needs_background": "light"
          }
        },
        {
          "output_type": "display_data",
          "data": {
            "text/plain": [
              "<Figure size 432x288 with 1 Axes>"
            ],
            "image/png": "[encoded data removed]"
          },
          "metadata": {
            "needs_background": "light"
          }
        },
        {
          "output_type": "display_data",
          "data": {
            "text/plain": [
              "<Figure size 432x288 with 1 Axes>"
            ],
            "image/png": "[encoded data removed]"
          },
          "metadata": {
            "needs_background": "light"
          }
        },
        {
          "output_type": "display_data",
          "data": {
            "text/plain": [
              "<Figure size 432x288 with 1 Axes>"
            ],
            "image/png": "[encoded data removed]"
          },
          "metadata": {
            "needs_background": "light"
          }
        },
        {
          "output_type": "display_data",
          "data": {
            "text/plain": [
              "<Figure size 432x288 with 1 Axes>"
            ],
            "image/png": "[encoded data removed]"
          },
          "metadata": {
            "needs_background": "light"
          }
        },
        {
          "output_type": "display_data",
          "data": {
            "text/plain": [
              "<Figure size 432x288 with 1 Axes>"
            ],
            "image/png": "[encoded data removed]"
          },
          "metadata": {
            "needs_background": "light"
          }
        },
        {
          "output_type": "display_data",
          "data": {
            "text/plain": [
              "<Figure size 432x288 with 1 Axes>"
            ],
            "image/png": "[encoded data removed]"
          },
          "metadata": {
            "needs_background": "light"
          }
        },
        {
          "output_type": "display_data",
          "data": {
            "text/plain": [
              "<Figure size 432x288 with 1 Axes>"
            ],
            "image/png": "[encoded data removed]"
          },
          "metadata": {
            "needs_background": "light"
          }
        },
        {
          "output_type": "display_data",
          "data": {
            "text/plain": [
              "<Figure size 432x288 with 1 Axes>"
            ],
            "image/png": "[encoded data removed]"
          },
          "metadata": {
            "needs_background": "light"
          }
        },
        {
          "output_type": "display_data",
          "data": {
            "text/plain": [
              "<Figure size 432x288 with 1 Axes>"
            ],
            "image/png": "[encoded data removed]"
          },
          "metadata": {
            "needs_background": "light"
          }
        },
        {
          "output_type": "display_data",
          "data": {
            "text/plain": [
              "<Figure size 432x288 with 1 Axes>"
            ],
            "image/png": "[encoded data removed]"
          },
          "metadata": {
            "needs_background": "light"
          }
        },
        {
          "output_type": "display_data",
          "data": {
            "text/plain": [
              "<Figure size 432x288 with 1 Axes>"
            ],
            "image/png": "[encoded data removed]"
          },
          "metadata": {
            "needs_background": "light"
          }
        },
        {
          "output_type": "display_data",
          "data": {
            "text/plain": [
              "<Figure size 432x288 with 1 Axes>"
            ],
            "image/png": "[encoded data removed]"
          },
          "metadata": {
            "needs_background": "light"
          }
        },
        {
          "output_type": "display_data",
          "data": {
            "text/plain": [
              "<Figure size 432x288 with 1 Axes>"
            ],
            "image/png": "[encoded data removed]"
          },
          "metadata": {
            "needs_background": "light"
          }
        },
        {
          "output_type": "display_data",
          "data": {
            "text/plain": [
              "<Figure size 432x288 with 1 Axes>"
            ],
            "image/png": "[encoded data removed]"
          },
          "metadata": {
            "needs_background": "light"
          }
        },
        {
          "output_type": "display_data",
          "data": {
            "text/plain": [
              "<Figure size 432x288 with 1 Axes>"
            ],
            "image/png": "[encoded data removed]"
          },
          "metadata": {
            "needs_background": "light"
          }
        }
      ],
      "source": [
        "# Example of picking up the blue cup and putting it above (to the left) of the red one:\n",
        "\n",
        "i=0\n",
        "while i<20:\n",
        "    obs = env.reset()\n",
        "    og_ee_pos = env.robot.get_ee_position()\n",
        "    ee_position = env.robot.get_ee_position()\n",
        "\n",
        "    obs = []\n",
        "\n",
        "    print('-----',i,'-----')\n",
        "    goal = env.sim.get_base_position(\"object\") - np.array([0.08,0.0,0])\n",
        "    goal = np.concatenate((goal[:2],[og_ee_pos[2]]))\n",
        "\n",
        "    obs+=(approach_target(goal, from_side = True, grip = 1, precision = 0.04))\n",
        "\n",
        "    print('-----')\n",
        "    goal = np.concatenate((goal[:2],[env.sim.get_base_position(\"object\")[2]]))\n",
        "    obs+=(approach_target(goal, from_side = True, grip = 1, precision = 0.04))\n",
        "\n",
        "    print('-----')\n",
        "    goal = env.sim.get_base_position(\"object\") + np.array([0.04,0,0.0175])\n",
        "    obs+=(approach_target(goal, from_side = True, grip = 0, precision = 0.01))\n",
        "\n",
        "    print('-----')\n",
        "    goal = goal+np.array([0,0,0.25])\n",
        "    obs+=(approach_target(goal, from_side = True, grip = -1, precision = 0.04))\n",
        "\n",
        "    #print('-----')\n",
        "    #goal = env.sim.get_base_position(\"target\") \n",
        "    #obs+=(approach_target(goal, from_side = True, grip = -1))\n",
        "\n",
        "    print('-----')\n",
        "    goal = env.sim.get_base_position(\"target\") + np.array([0,0,0.16])\n",
        "    #if goal[1]>env.sim.get_base_position(\"object\")[1]:\n",
        "    #  offset = np.array([0,-0.02,0])\n",
        "    #  right = False \n",
        "    #else:\n",
        "    #  offset = np.array([0,0.02,0])\n",
        "    #  right = True \n",
        "\n",
        "    right = False\n",
        "    offset = np.array([0,0.12,0])\n",
        "\n",
        "    goal+=offset\n",
        "    obs+=(approach_target(goal, from_side = True, grip = -1,precision = 0.001))\n",
        "\n",
        "    print('-----')\n",
        "\n",
        "    # if you want to include the pouring action:\n",
        "    #obs+=pour(angle_shift=math.pi/2 + math.pi/2*(0.3),right = right)\n",
        "    #print('-----')\n",
        "    #obs+=pour(angle_shift=math.pi/2 + math.pi/8*(0.3),right = not right)\n",
        "\n",
        "    #count nr in red, blue or spilled:\n",
        "    #_,_,_,dd=count_nr_in_tg(env)\n",
        "    #print(count_nr_in_tg(env)[:3])\n",
        "\n",
        "    final_dist_= np.sqrt(distance(env.sim.get_base_position(\"target\"),env.sim.get_base_position(\"object\")))\n",
        "    print(f'Final distance between blue and red cup: {final_dist_:.3f}m')\n",
        "    print('visual check final frame:')\n",
        "    fig = plt.figure()\n",
        "    plt.imshow(obs[-1].front_rgb, interpolation='nearest')\n",
        "    display.display(fig)\n",
        "\n",
        "    panda_demo = Demo(obs)\n",
        "    EPISODE_FOLDER = 'episode%d'\n",
        "    index = i\n",
        "    panda_dataset_dir_eps = os.path.join(panda_dataset_dir, EPISODE_FOLDER % index)\n",
        "    if os.path.exists(panda_dataset_dir_eps):\n",
        "      !rm -rf $panda_dataset_dir_eps\n",
        "      \n",
        "    save_demo(panda_demo, panda_dataset_dir_eps)\n",
        "\n",
        "    check_save = check_demo(panda_dataset_dir, index)\n",
        "    if check_save:\n",
        "      i+=1\n",
        "\n",
        "\n"
      ]
    },
    {
      "cell_type": "code",
      "source": [
        "redo_demos = [3,7,9,11,17,19]\n",
        "\n",
        "\n",
        "i=redo_demos.pop()\n",
        "while redo_demos:\n",
        "    obs = env.reset()\n",
        "    og_ee_pos = env.robot.get_ee_position()\n",
        "    ee_position = env.robot.get_ee_position()\n",
        "\n",
        "    obs = []\n",
        "\n",
        "    print('-----',i,'-----')\n",
        "    goal = env.sim.get_base_position(\"object\") - np.array([0.08,0.0,0])\n",
        "    goal = np.concatenate((goal[:2],[og_ee_pos[2]]))\n",
        "\n",
        "    obs+=(approach_target(goal, from_side = True, grip = 1, precision = 0.04))\n",
        "\n",
        "    print('-----')\n",
        "    goal = np.concatenate((goal[:2],[env.sim.get_base_position(\"object\")[2]]))\n",
        "    obs+=(approach_target(goal, from_side = True, grip = 1, precision = 0.04))\n",
        "\n",
        "    print('-----')\n",
        "    goal = env.sim.get_base_position(\"object\") + np.array([0.04,0,0.0175])\n",
        "    obs+=(approach_target(goal, from_side = True, grip = 0, precision = 0.01))\n",
        "\n",
        "    print('-----')\n",
        "    goal = goal+np.array([0,0,0.25])\n",
        "    obs+=(approach_target(goal, from_side = True, grip = -1, precision = 0.04))\n",
        "\n",
        "    #print('-----')\n",
        "    #goal = env.sim.get_base_position(\"target\") \n",
        "    #obs+=(approach_target(goal, from_side = True, grip = -1))\n",
        "\n",
        "    print('-----')\n",
        "    goal = env.sim.get_base_position(\"target\") + np.array([0,0,0.16])\n",
        "    #if goal[1]>env.sim.get_base_position(\"object\")[1]:\n",
        "    #  offset = np.array([0,-0.02,0])\n",
        "    #  right = False \n",
        "    #else:\n",
        "    #  offset = np.array([0,0.02,0])\n",
        "    #  right = True \n",
        "\n",
        "    right = False\n",
        "    offset = np.array([0,0.12,0])\n",
        "\n",
        "    goal+=offset\n",
        "    obs+=(approach_target(goal, from_side = True, grip = -1,precision = 0.001))\n",
        "\n",
        "    print('-----')\n",
        "\n",
        "    # if you want to include the pouring action:\n",
        "    #obs+=pour(angle_shift=math.pi/2 + math.pi/2*(0.3),right = right)\n",
        "    #print('-----')\n",
        "    #obs+=pour(angle_shift=math.pi/2 + math.pi/8*(0.3),right = not right)\n",
        "\n",
        "    #count nr in red, blue or spilled:\n",
        "    #_,_,_,dd=count_nr_in_tg(env)\n",
        "    #print(count_nr_in_tg(env)[:3])\n",
        "\n",
        "    final_dist_= np.sqrt(distance(env.sim.get_base_position(\"target\"),env.sim.get_base_position(\"object\")))\n",
        "    print(f'Final distance between blue and red cup: {final_dist_:.3f}m')\n",
        "    print('visual check final frame:')\n",
        "    fig = plt.figure()\n",
        "    plt.imshow(obs[-1].front_rgb, interpolation='nearest')\n",
        "    display.display(fig)\n",
        "\n",
        "    panda_demo = Demo(obs)\n",
        "    EPISODE_FOLDER = 'episode%d'\n",
        "    index = i\n",
        "    panda_dataset_dir_eps = os.path.join(panda_dataset_dir, EPISODE_FOLDER % index)\n",
        "    if os.path.exists(panda_dataset_dir_eps):\n",
        "      !rm -rf $panda_dataset_dir_eps\n",
        "\n",
        "    save_demo(panda_demo, panda_dataset_dir_eps)\n",
        "\n",
        "    check_save = check_demo(panda_dataset_dir, index)\n",
        "    if check_save:\n",
        "      i = redo_demos.pop()"
      ],
      "metadata": {
        "colab": {
          "base_uri": "https://localhost:8080/",
          "height": 1000
        },
        "id": "WNb_nikh6bGK",
        "outputId": "1e560c77-e77b-4b35-e14f-2bbc71d38fc2"
      },
      "execution_count": null,
      "outputs": [
        {
          "output_type": "stream",
          "name": "stdout",
          "text": [
            "----- 19 -----\n"
          ]
        },
        {
          "output_type": "stream",
          "name": "stderr",
          "text": [
            "/content/PyBulletPerAct/panda_gym/pybullet.py:926: UserWarning: The use of the render method is not recommended when the environment has not been created with render=True. The rendering will probably be weird. Prefer making the environment with option `render=True`. For example: `env = gym.make('PandaReach-v2', render=True)`.\n",
            "  warnings.warn(\n",
            "/content/PyBulletPerAct/panda_gym/pybullet.py:1003: UserWarning: The use of the render method is not recommended when the environment has not been created with render=True. The rendering will probably be weird. Prefer making the environment with option `render=True`. For example: `env = gym.make('PandaReach-v2', render=True)`.\n",
            "  warnings.warn(\n"
          ]
        },
        {
          "output_type": "stream",
          "name": "stdout",
          "text": [
            "44\n",
            "-----\n",
            "50\n",
            "-----\n",
            "50\n",
            "-----\n",
            "50\n",
            "-----\n",
            "50\n",
            "-----\n",
            "Final distance between blue and red cup: 0.211m\n",
            "visual check final frame:\n"
          ]
        },
        {
          "output_type": "display_data",
          "data": {
            "text/plain": [
              "<Figure size 432x288 with 1 Axes>"
            ],
            "image/png": "[encoded data removed]"
          },
          "metadata": {}
        },
        {
          "output_type": "stream",
          "name": "stdout",
          "text": [
            "----- 17 -----\n",
            "26\n",
            "-----\n",
            "50\n",
            "-----\n",
            "50\n",
            "-----\n",
            "14\n",
            "-----\n",
            "50\n",
            "-----\n",
            "Final distance between blue and red cup: 0.174m\n",
            "visual check final frame:\n"
          ]
        },
        {
          "output_type": "display_data",
          "data": {
            "text/plain": [
              "<Figure size 432x288 with 1 Axes>"
            ],
            "image/png": "[encoded data removed]"
          },
          "metadata": {}
        },
        {
          "output_type": "stream",
          "name": "stdout",
          "text": [
            "----- 11 -----\n",
            "23\n",
            "-----\n",
            "50\n",
            "-----\n",
            "50\n",
            "-----\n",
            "15\n",
            "-----\n",
            "17\n",
            "-----\n",
            "Final distance between blue and red cup: 0.170m\n",
            "visual check final frame:\n"
          ]
        },
        {
          "output_type": "display_data",
          "data": {
            "text/plain": [
              "<Figure size 432x288 with 1 Axes>"
            ],
            "image/png": "[encoded data removed]"
          },
          "metadata": {}
        },
        {
          "output_type": "stream",
          "name": "stdout",
          "text": [
            "----- 9 -----\n",
            "4\n",
            "-----\n",
            "46\n",
            "-----\n",
            "50\n",
            "-----\n",
            "12\n",
            "-----\n",
            "50\n",
            "-----\n",
            "Final distance between blue and red cup: 0.171m\n",
            "visual check final frame:\n"
          ]
        },
        {
          "output_type": "display_data",
          "data": {
            "text/plain": [
              "<Figure size 432x288 with 1 Axes>"
            ],
            "image/png": "[encoded data removed]"
          },
          "metadata": {}
        },
        {
          "output_type": "stream",
          "name": "stdout",
          "text": [
            "----- 7 -----\n",
            "34\n",
            "-----\n",
            "50\n",
            "-----\n",
            "50\n",
            "-----\n",
            "17\n",
            "-----\n",
            "19\n",
            "-----\n",
            "Final distance between blue and red cup: 0.171m\n",
            "visual check final frame:\n"
          ]
        },
        {
          "output_type": "display_data",
          "data": {
            "text/plain": [
              "<Figure size 432x288 with 1 Axes>"
            ],
            "image/png": "[encoded data removed]"
          },
          "metadata": {}
        },
        {
          "output_type": "display_data",
          "data": {
            "text/plain": [
              "<Figure size 432x288 with 1 Axes>"
            ],
            "image/png": "[encoded data removed]"
          },
          "metadata": {
            "needs_background": "light"
          }
        },
        {
          "output_type": "display_data",
          "data": {
            "text/plain": [
              "<Figure size 432x288 with 1 Axes>"
            ],
            "image/png": "[encoded data removed]"
          },
          "metadata": {
            "needs_background": "light"
          }
        },
        {
          "output_type": "display_data",
          "data": {
            "text/plain": [
              "<Figure size 432x288 with 1 Axes>"
            ],
            "image/png": "[encoded data removed]"
          },
          "metadata": {
            "needs_background": "light"
          }
        },
        {
          "output_type": "display_data",
          "data": {
            "text/plain": [
              "<Figure size 432x288 with 1 Axes>"
            ],
            "image/png": "[encoded data removed]"
          },
          "metadata": {
            "needs_background": "light"
          }
        },
        {
          "output_type": "display_data",
          "data": {
            "text/plain": [
              "<Figure size 432x288 with 1 Axes>"
            ],
            "image/png": "[encoded data removed]"
          },
          "metadata": {
            "needs_background": "light"
          }
        }
      ]
    },
    {
      "cell_type": "code",
      "source": [
        "redo_demos = [19]\n",
        "\n",
        "\n",
        "i=redo_demos.pop()\n",
        "while True:\n",
        "    obs = env.reset()\n",
        "    og_ee_pos = env.robot.get_ee_position()\n",
        "    ee_position = env.robot.get_ee_position()\n",
        "\n",
        "    obs = []\n",
        "\n",
        "    print('-----',i,'-----')\n",
        "    goal = env.sim.get_base_position(\"object\") - np.array([0.08,0.0,0])\n",
        "    goal = np.concatenate((goal[:2],[og_ee_pos[2]]))\n",
        "\n",
        "    obs+=(approach_target(goal, from_side = True, grip = 1, precision = 0.04))\n",
        "\n",
        "    print('-----')\n",
        "    goal = np.concatenate((goal[:2],[env.sim.get_base_position(\"object\")[2]]))\n",
        "    obs+=(approach_target(goal, from_side = True, grip = 1, precision = 0.04))\n",
        "\n",
        "    print('-----')\n",
        "    goal = env.sim.get_base_position(\"object\") + np.array([0.04,0,0.0175])\n",
        "    obs+=(approach_target(goal, from_side = True, grip = 0, precision = 0.01))\n",
        "\n",
        "    print('-----')\n",
        "    goal = goal+np.array([0,0,0.25])\n",
        "    obs+=(approach_target(goal, from_side = True, grip = -1, precision = 0.04))\n",
        "\n",
        "    #print('-----')\n",
        "    #goal = env.sim.get_base_position(\"target\") \n",
        "    #obs+=(approach_target(goal, from_side = True, grip = -1))\n",
        "\n",
        "    print('-----')\n",
        "    goal = env.sim.get_base_position(\"target\") + np.array([0,0,0.16])\n",
        "    #if goal[1]>env.sim.get_base_position(\"object\")[1]:\n",
        "    #  offset = np.array([0,-0.02,0])\n",
        "    #  right = False \n",
        "    #else:\n",
        "    #  offset = np.array([0,0.02,0])\n",
        "    #  right = True \n",
        "\n",
        "    right = False\n",
        "    offset = np.array([0,0.12,0])\n",
        "\n",
        "    goal+=offset\n",
        "    obs+=(approach_target(goal, from_side = True, grip = -1,precision = 0.001))\n",
        "\n",
        "    print('-----')\n",
        "\n",
        "    # if you want to include the pouring action:\n",
        "    #obs+=pour(angle_shift=math.pi/2 + math.pi/2*(0.3),right = right)\n",
        "    #print('-----')\n",
        "    #obs+=pour(angle_shift=math.pi/2 + math.pi/8*(0.3),right = not right)\n",
        "\n",
        "    #count nr in red, blue or spilled:\n",
        "    #_,_,_,dd=count_nr_in_tg(env)\n",
        "    #print(count_nr_in_tg(env)[:3])\n",
        "\n",
        "    final_dist_= np.sqrt(distance(env.sim.get_base_position(\"target\"),env.sim.get_base_position(\"object\")))\n",
        "    print(f'Final distance between blue and red cup: {final_dist_:.3f}m')\n",
        "    print('visual check final frame:')\n",
        "    fig = plt.figure()\n",
        "    plt.imshow(obs[-1].front_rgb, interpolation='nearest')\n",
        "    display.display(fig)\n",
        "\n",
        "    panda_demo = Demo(obs)\n",
        "    EPISODE_FOLDER = 'episode%d'\n",
        "    index = i\n",
        "    panda_dataset_dir_eps = os.path.join(panda_dataset_dir, EPISODE_FOLDER % index)\n",
        "    if os.path.exists(panda_dataset_dir_eps):\n",
        "      !rm -rf $panda_dataset_dir_eps\n",
        "\n",
        "    save_demo(panda_demo, panda_dataset_dir_eps)\n",
        "\n",
        "    check_save = check_demo(panda_dataset_dir, index)\n",
        "    if check_save:\n",
        "      if redo_demos:\n",
        "        i = redo_demos.pop()\n",
        "      else:\n",
        "        break"
      ],
      "metadata": {
        "colab": {
          "base_uri": "https://localhost:8080/",
          "height": 745
        },
        "id": "QuGARTh5BIEi",
        "outputId": "4eb1708e-aa62-44a4-9141-d688430837c9"
      },
      "execution_count": null,
      "outputs": [
        {
          "output_type": "stream",
          "name": "stdout",
          "text": [
            "----- 19 -----\n",
            "8\n",
            "-----\n",
            "50\n",
            "-----\n",
            "50\n",
            "-----\n",
            "12\n",
            "-----\n",
            "50\n",
            "-----\n",
            "Final distance between blue and red cup: 0.177m\n",
            "visual check final frame:\n"
          ]
        },
        {
          "output_type": "display_data",
          "data": {
            "text/plain": [
              "<Figure size 432x288 with 1 Axes>"
            ],
            "image/png": "[encoded data removed]"
          },
          "metadata": {}
        },
        {
          "output_type": "display_data",
          "data": {
            "text/plain": [
              "<Figure size 432x288 with 1 Axes>"
            ],
            "image/png": "[encoded data removed]"
          },
          "metadata": {
            "needs_background": "light"
          }
        }
      ]
    }
  ],
  "metadata": {
    "accelerator": "GPU",
    "colab": {
      "provenance": [],
      "toc_visible": true,
      "include_colab_link": true
    },
    "gpuClass": "standard",
    "kernelspec": {
      "display_name": "Python 3",
      "name": "python3"
    },
    "language_info": {
      "name": "python"
    }
  },
  "nbformat": 4,
  "nbformat_minor": 0
}